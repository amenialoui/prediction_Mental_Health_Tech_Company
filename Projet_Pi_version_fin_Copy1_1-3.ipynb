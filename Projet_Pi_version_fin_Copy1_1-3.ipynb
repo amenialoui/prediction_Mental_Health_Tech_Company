{
 "cells": [
  {
   "cell_type": "markdown",
   "id": "b7c828c2",
   "metadata": {},
   "source": [
    "## Introduction:\n",
    "\n",
    "Aujourd'hui, la santé mentale occupe une place prépondérante, notamment dans les secteurs technologiques.Alors que ces entreprises sont souvent à la pointe de l'innovation et de la technologie, elles sont également confrontées à des défis uniques en matière de bien-être mental de leurs employés. Les environnements de travail rapides, compétitifs et axés sur les résultats peuvent entraîner un stress, une pression intense et des exigences élevées, ce qui peut avoir un impact significatif sur la santé mentale des individus. La reconnaissance de l'importance de la santé mentale dans ces entreprises est essentielle non seulement pour le bien-être des employés, mais aussi pour la performance globale de l'entreprise. \n",
    "Dans cette analyse, Nous utilisons une enquête menée en 2014 par OSMI Mental Health in Tech Survey qui vise à évaluer les attitudes envers la santé mentale et la prévalence des troubles de santé mentale au sein des entreprises du secteur technologique.\n",
    "\n",
    "Énoncé du problème :\n",
    "\n",
    "-Identifiez les principales caractéristiques qui entraînent des problèmes de santé mentale dans l'espace technologique.\n",
    "-Etudier la relation entre les troubles de santé mentale et les variables utilises.\n",
    "-Identifier les prédicteurs les plus forts de la maladie mentale.\n",
    "-Prédire si un patient doit être traité pour sa maladie mentale ou non selon les valeurs obtenues .\n",
    "\n",
    "Plus value:\n",
    "\n",
    "Les entreprises peuvent utiliser ce modèle pour mieux connaître les problèmes de santé mentale des employés et offrir des avantages aux employés dans le besoin, utilisant ainsi efficacement les ressources de l'entreprise. Ce modèle peut aider à réduire les coûts supplémentaires liés à la fourniture de prestations de santé mentale aux personnes qui ne recherchent pas et n'utilisent pas cet argent pour d'autres prestations de cet employé. Cela finira par augmenter la satisfaction des employés, ce qui entraînera la rétention des employés dans l'ensemble.\n",
    "À partir de cette recherche, cet apprentissage automatique peut aider les RH à voir quels facteurs l'entreprise doit prendre en charge pour que l'employé souhaite obtenir un traitement de santé mentale.\n",
    "\n"
   ]
  },
  {
   "cell_type": "markdown",
   "id": "7c734bfe",
   "metadata": {
    "id": "7c734bfe"
   },
   "source": [
    "## Importation des Libraries"
   ]
  },
  {
   "cell_type": "code",
   "execution_count": 375,
   "id": "41949575",
   "metadata": {
    "id": "41949575"
   },
   "outputs": [],
   "source": [
    "import numpy as np\n",
    "import pandas as pd\n",
    "\n",
    "#Preprocessing\n",
    "from sklearn.compose import ColumnTransformer\n",
    "from sklearn.preprocessing import OneHotEncoder\n",
    "from sklearn.preprocessing import MinMaxScaler\n",
    "from sklearn.preprocessing import OrdinalEncoder\n",
    "\n",
    "#Splitting\n",
    "from sklearn.model_selection import train_test_split\n",
    "\n",
    "#models\n",
    "from sklearn.linear_model import LogisticRegression\n",
    "from sklearn.tree import DecisionTreeClassifier\n",
    "from sklearn.neighbors import KNeighborsClassifier\n",
    "from sklearn.metrics import accuracy_score, recall_score, plot_roc_curve, confusion_matrix, classification_report, precision_recall_curve, auc\n",
    "from sklearn.ensemble import RandomForestClassifier, AdaBoostClassifier, GradientBoostingClassifier\n",
    "\n",
    "from sklearn import metrics"
   ]
  },
  {
   "cell_type": "code",
   "execution_count": 376,
   "id": "2cef627b",
   "metadata": {},
   "outputs": [
    {
     "name": "stdout",
     "output_type": "stream",
     "text": [
      "Requirement already satisfied: missingno in c:\\users\\admin\\anaconda3\\lib\\site-packages (0.5.2)\n",
      "Requirement already satisfied: numpy in c:\\users\\admin\\anaconda3\\lib\\site-packages (from missingno) (1.21.5)\n",
      "Requirement already satisfied: matplotlib in c:\\users\\admin\\anaconda3\\lib\\site-packages (from missingno) (3.5.1)\n",
      "Requirement already satisfied: scipy in c:\\users\\admin\\anaconda3\\lib\\site-packages (from missingno) (1.7.3)\n",
      "Requirement already satisfied: seaborn in c:\\users\\admin\\anaconda3\\lib\\site-packages (from missingno) (0.11.2)\n",
      "Requirement already satisfied: cycler>=0.10 in c:\\users\\admin\\anaconda3\\lib\\site-packages (from matplotlib->missingno) (0.11.0)\n",
      "Requirement already satisfied: fonttools>=4.22.0 in c:\\users\\admin\\anaconda3\\lib\\site-packages (from matplotlib->missingno) (4.25.0)\n",
      "Requirement already satisfied: kiwisolver>=1.0.1 in c:\\users\\admin\\anaconda3\\lib\\site-packages (from matplotlib->missingno) (1.3.2)\n",
      "Requirement already satisfied: packaging>=20.0 in c:\\users\\admin\\anaconda3\\lib\\site-packages (from matplotlib->missingno) (21.3)\n",
      "Requirement already satisfied: pillow>=6.2.0 in c:\\users\\admin\\anaconda3\\lib\\site-packages (from matplotlib->missingno) (9.0.1)\n",
      "Requirement already satisfied: pyparsing>=2.2.1 in c:\\users\\admin\\anaconda3\\lib\\site-packages (from matplotlib->missingno) (3.0.4)\n",
      "Requirement already satisfied: python-dateutil>=2.7 in c:\\users\\admin\\anaconda3\\lib\\site-packages (from matplotlib->missingno) (2.8.2)\n",
      "Requirement already satisfied: pandas>=0.23 in c:\\users\\admin\\anaconda3\\lib\\site-packages (from seaborn->missingno) (1.4.2)\n",
      "Requirement already satisfied: pytz>=2020.1 in c:\\users\\admin\\anaconda3\\lib\\site-packages (from pandas>=0.23->seaborn->missingno) (2021.3)\n",
      "Requirement already satisfied: six>=1.5 in c:\\users\\admin\\anaconda3\\lib\\site-packages (from python-dateutil>=2.7->matplotlib->missingno) (1.16.0)\n",
      "Note: you may need to restart the kernel to use updated packages.\n"
     ]
    }
   ],
   "source": [
    "pip install missingno "
   ]
  },
  {
   "cell_type": "code",
   "execution_count": 377,
   "id": "f7d9cb3f",
   "metadata": {
    "id": "f7d9cb3f",
    "outputId": "5cb9895d-7231-41f3-93f7-0d0548a6fc8a"
   },
   "outputs": [
    {
     "name": "stdout",
     "output_type": "stream",
     "text": [
      "Requirement already satisfied: xgboost in c:\\users\\admin\\anaconda3\\lib\\site-packages (1.7.5)\n",
      "Requirement already satisfied: numpy in c:\\users\\admin\\anaconda3\\lib\\site-packages (from xgboost) (1.21.5)\n",
      "Requirement already satisfied: scipy in c:\\users\\admin\\anaconda3\\lib\\site-packages (from xgboost) (1.7.3)\n",
      "Note: you may need to restart the kernel to use updated packages.\n"
     ]
    }
   ],
   "source": [
    "pip install xgboost"
   ]
  },
  {
   "cell_type": "markdown",
   "id": "84d85043",
   "metadata": {},
   "source": [
    "# I. Data and Preprocessing (cleaning, missing values, recoding)"
   ]
  },
  {
   "cell_type": "markdown",
   "id": "8f640a3e",
   "metadata": {
    "id": "8f640a3e"
   },
   "source": [
    "## 1. Data Loading"
   ]
  },
  {
   "cell_type": "code",
   "execution_count": 378,
   "id": "1a36db11",
   "metadata": {
    "id": "1a36db11",
    "outputId": "9bc70d34-5f20-4111-cb37-92183a5f5ae6"
   },
   "outputs": [
    {
     "data": {
      "text/html": [
       "<div>\n",
       "<style scoped>\n",
       "    .dataframe tbody tr th:only-of-type {\n",
       "        vertical-align: middle;\n",
       "    }\n",
       "\n",
       "    .dataframe tbody tr th {\n",
       "        vertical-align: top;\n",
       "    }\n",
       "\n",
       "    .dataframe thead th {\n",
       "        text-align: right;\n",
       "    }\n",
       "</style>\n",
       "<table border=\"1\" class=\"dataframe\">\n",
       "  <thead>\n",
       "    <tr style=\"text-align: right;\">\n",
       "      <th></th>\n",
       "      <th>Timestamp</th>\n",
       "      <th>Age</th>\n",
       "      <th>Gender</th>\n",
       "      <th>Country</th>\n",
       "      <th>state</th>\n",
       "      <th>self_employed</th>\n",
       "      <th>family_history</th>\n",
       "      <th>treatment</th>\n",
       "      <th>work_interfere</th>\n",
       "      <th>no_employees</th>\n",
       "      <th>...</th>\n",
       "      <th>leave</th>\n",
       "      <th>mental_health_consequence</th>\n",
       "      <th>phys_health_consequence</th>\n",
       "      <th>coworkers</th>\n",
       "      <th>supervisor</th>\n",
       "      <th>mental_health_interview</th>\n",
       "      <th>phys_health_interview</th>\n",
       "      <th>mental_vs_physical</th>\n",
       "      <th>obs_consequence</th>\n",
       "      <th>comments</th>\n",
       "    </tr>\n",
       "  </thead>\n",
       "  <tbody>\n",
       "    <tr>\n",
       "      <th>0</th>\n",
       "      <td>27-08-14 11:29</td>\n",
       "      <td>37</td>\n",
       "      <td>Female</td>\n",
       "      <td>United States</td>\n",
       "      <td>IL</td>\n",
       "      <td>NaN</td>\n",
       "      <td>No</td>\n",
       "      <td>Yes</td>\n",
       "      <td>Often</td>\n",
       "      <td>Jun-25</td>\n",
       "      <td>...</td>\n",
       "      <td>Somewhat easy</td>\n",
       "      <td>No</td>\n",
       "      <td>No</td>\n",
       "      <td>Some of them</td>\n",
       "      <td>Yes</td>\n",
       "      <td>No</td>\n",
       "      <td>Maybe</td>\n",
       "      <td>Yes</td>\n",
       "      <td>No</td>\n",
       "      <td>NaN</td>\n",
       "    </tr>\n",
       "    <tr>\n",
       "      <th>1</th>\n",
       "      <td>27-08-14 11:29</td>\n",
       "      <td>44</td>\n",
       "      <td>M</td>\n",
       "      <td>United States</td>\n",
       "      <td>IN</td>\n",
       "      <td>NaN</td>\n",
       "      <td>No</td>\n",
       "      <td>No</td>\n",
       "      <td>Rarely</td>\n",
       "      <td>More than 1000</td>\n",
       "      <td>...</td>\n",
       "      <td>Don't know</td>\n",
       "      <td>Maybe</td>\n",
       "      <td>No</td>\n",
       "      <td>No</td>\n",
       "      <td>No</td>\n",
       "      <td>No</td>\n",
       "      <td>No</td>\n",
       "      <td>Don't know</td>\n",
       "      <td>No</td>\n",
       "      <td>NaN</td>\n",
       "    </tr>\n",
       "    <tr>\n",
       "      <th>2</th>\n",
       "      <td>27-08-14 11:29</td>\n",
       "      <td>32</td>\n",
       "      <td>Male</td>\n",
       "      <td>Canada</td>\n",
       "      <td>NaN</td>\n",
       "      <td>NaN</td>\n",
       "      <td>No</td>\n",
       "      <td>No</td>\n",
       "      <td>Rarely</td>\n",
       "      <td>Jun-25</td>\n",
       "      <td>...</td>\n",
       "      <td>Somewhat difficult</td>\n",
       "      <td>No</td>\n",
       "      <td>No</td>\n",
       "      <td>Yes</td>\n",
       "      <td>Yes</td>\n",
       "      <td>Yes</td>\n",
       "      <td>Yes</td>\n",
       "      <td>No</td>\n",
       "      <td>No</td>\n",
       "      <td>NaN</td>\n",
       "    </tr>\n",
       "    <tr>\n",
       "      <th>3</th>\n",
       "      <td>27-08-14 11:29</td>\n",
       "      <td>31</td>\n",
       "      <td>Male</td>\n",
       "      <td>United Kingdom</td>\n",
       "      <td>NaN</td>\n",
       "      <td>NaN</td>\n",
       "      <td>Yes</td>\n",
       "      <td>Yes</td>\n",
       "      <td>Often</td>\n",
       "      <td>26-100</td>\n",
       "      <td>...</td>\n",
       "      <td>Somewhat difficult</td>\n",
       "      <td>Yes</td>\n",
       "      <td>Yes</td>\n",
       "      <td>Some of them</td>\n",
       "      <td>No</td>\n",
       "      <td>Maybe</td>\n",
       "      <td>Maybe</td>\n",
       "      <td>No</td>\n",
       "      <td>Yes</td>\n",
       "      <td>NaN</td>\n",
       "    </tr>\n",
       "    <tr>\n",
       "      <th>4</th>\n",
       "      <td>27-08-14 11:30</td>\n",
       "      <td>31</td>\n",
       "      <td>Male</td>\n",
       "      <td>United States</td>\n",
       "      <td>TX</td>\n",
       "      <td>NaN</td>\n",
       "      <td>No</td>\n",
       "      <td>No</td>\n",
       "      <td>Never</td>\n",
       "      <td>100-500</td>\n",
       "      <td>...</td>\n",
       "      <td>Don't know</td>\n",
       "      <td>No</td>\n",
       "      <td>No</td>\n",
       "      <td>Some of them</td>\n",
       "      <td>Yes</td>\n",
       "      <td>Yes</td>\n",
       "      <td>Yes</td>\n",
       "      <td>Don't know</td>\n",
       "      <td>No</td>\n",
       "      <td>NaN</td>\n",
       "    </tr>\n",
       "  </tbody>\n",
       "</table>\n",
       "<p>5 rows × 27 columns</p>\n",
       "</div>"
      ],
      "text/plain": [
       "        Timestamp  Age  Gender         Country state self_employed  \\\n",
       "0  27-08-14 11:29   37  Female   United States    IL           NaN   \n",
       "1  27-08-14 11:29   44       M   United States    IN           NaN   \n",
       "2  27-08-14 11:29   32    Male          Canada   NaN           NaN   \n",
       "3  27-08-14 11:29   31    Male  United Kingdom   NaN           NaN   \n",
       "4  27-08-14 11:30   31    Male   United States    TX           NaN   \n",
       "\n",
       "  family_history treatment work_interfere    no_employees  ...  \\\n",
       "0             No       Yes          Often          Jun-25  ...   \n",
       "1             No        No         Rarely  More than 1000  ...   \n",
       "2             No        No         Rarely          Jun-25  ...   \n",
       "3            Yes       Yes          Often          26-100  ...   \n",
       "4             No        No          Never         100-500  ...   \n",
       "\n",
       "                leave mental_health_consequence phys_health_consequence  \\\n",
       "0       Somewhat easy                        No                      No   \n",
       "1          Don't know                     Maybe                      No   \n",
       "2  Somewhat difficult                        No                      No   \n",
       "3  Somewhat difficult                       Yes                     Yes   \n",
       "4          Don't know                        No                      No   \n",
       "\n",
       "      coworkers supervisor mental_health_interview phys_health_interview  \\\n",
       "0  Some of them        Yes                      No                 Maybe   \n",
       "1            No         No                      No                    No   \n",
       "2           Yes        Yes                     Yes                   Yes   \n",
       "3  Some of them         No                   Maybe                 Maybe   \n",
       "4  Some of them        Yes                     Yes                   Yes   \n",
       "\n",
       "  mental_vs_physical obs_consequence comments  \n",
       "0                Yes              No      NaN  \n",
       "1         Don't know              No      NaN  \n",
       "2                 No              No      NaN  \n",
       "3                 No             Yes      NaN  \n",
       "4         Don't know              No      NaN  \n",
       "\n",
       "[5 rows x 27 columns]"
      ]
     },
     "execution_count": 378,
     "metadata": {},
     "output_type": "execute_result"
    }
   ],
   "source": [
    "data=pd.read_csv('survey.csv')\n",
    "\n",
    "data.head()"
   ]
  },
  {
   "cell_type": "code",
   "execution_count": 379,
   "id": "145921ed",
   "metadata": {
    "id": "145921ed",
    "outputId": "e9211634-90c4-4326-d9d6-0237fbb427bd"
   },
   "outputs": [
    {
     "name": "stdout",
     "output_type": "stream",
     "text": [
      "(1259, 27)\n"
     ]
    }
   ],
   "source": [
    "print(data.shape)"
   ]
  },
  {
   "cell_type": "code",
   "execution_count": 380,
   "id": "4850311c",
   "metadata": {},
   "outputs": [
    {
     "name": "stdout",
     "output_type": "stream",
     "text": [
      "<bound method NDFrame.describe of            Timestamp  Age  Gender         Country state self_employed  \\\n",
      "0     27-08-14 11:29   37  Female   United States    IL           NaN   \n",
      "1     27-08-14 11:29   44       M   United States    IN           NaN   \n",
      "2     27-08-14 11:29   32    Male          Canada   NaN           NaN   \n",
      "3     27-08-14 11:29   31    Male  United Kingdom   NaN           NaN   \n",
      "4     27-08-14 11:30   31    Male   United States    TX           NaN   \n",
      "...              ...  ...     ...             ...   ...           ...   \n",
      "1254  12-09-15 11:17   26    male  United Kingdom   NaN            No   \n",
      "1255   26-09-15 1:07   32    Male   United States    IL            No   \n",
      "1256  07-11-15 12:36   34    male   United States    CA            No   \n",
      "1257  30-11-15 21:25   46       f   United States    NC            No   \n",
      "1258  01-02-16 23:04   25    Male   United States    IL            No   \n",
      "\n",
      "     family_history treatment work_interfere    no_employees  ...  \\\n",
      "0                No       Yes          Often          Jun-25  ...   \n",
      "1                No        No         Rarely  More than 1000  ...   \n",
      "2                No        No         Rarely          Jun-25  ...   \n",
      "3               Yes       Yes          Often          26-100  ...   \n",
      "4                No        No          Never         100-500  ...   \n",
      "...             ...       ...            ...             ...  ...   \n",
      "1254             No       Yes            NaN          26-100  ...   \n",
      "1255            Yes       Yes          Often          26-100  ...   \n",
      "1256            Yes       Yes      Sometimes  More than 1000  ...   \n",
      "1257             No        No            NaN         100-500  ...   \n",
      "1258            Yes       Yes      Sometimes          26-100  ...   \n",
      "\n",
      "                   leave mental_health_consequence phys_health_consequence  \\\n",
      "0          Somewhat easy                        No                      No   \n",
      "1             Don't know                     Maybe                      No   \n",
      "2     Somewhat difficult                        No                      No   \n",
      "3     Somewhat difficult                       Yes                     Yes   \n",
      "4             Don't know                        No                      No   \n",
      "...                  ...                       ...                     ...   \n",
      "1254       Somewhat easy                        No                      No   \n",
      "1255  Somewhat difficult                        No                      No   \n",
      "1256  Somewhat difficult                       Yes                     Yes   \n",
      "1257          Don't know                       Yes                      No   \n",
      "1258          Don't know                     Maybe                      No   \n",
      "\n",
      "         coworkers    supervisor mental_health_interview  \\\n",
      "0     Some of them           Yes                      No   \n",
      "1               No            No                      No   \n",
      "2              Yes           Yes                     Yes   \n",
      "3     Some of them            No                   Maybe   \n",
      "4     Some of them           Yes                     Yes   \n",
      "...            ...           ...                     ...   \n",
      "1254  Some of them  Some of them                      No   \n",
      "1255  Some of them           Yes                      No   \n",
      "1256            No            No                      No   \n",
      "1257            No            No                      No   \n",
      "1258  Some of them            No                      No   \n",
      "\n",
      "     phys_health_interview mental_vs_physical obs_consequence comments  \n",
      "0                    Maybe                Yes              No      NaN  \n",
      "1                       No         Don't know              No      NaN  \n",
      "2                      Yes                 No              No      NaN  \n",
      "3                    Maybe                 No             Yes      NaN  \n",
      "4                      Yes         Don't know              No      NaN  \n",
      "...                    ...                ...             ...      ...  \n",
      "1254                    No         Don't know              No      NaN  \n",
      "1255                    No                Yes              No      NaN  \n",
      "1256                    No                 No              No      NaN  \n",
      "1257                    No                 No              No      NaN  \n",
      "1258                    No         Don't know              No      NaN  \n",
      "\n",
      "[1259 rows x 27 columns]>\n"
     ]
    }
   ],
   "source": [
    "print(data.describe)"
   ]
  },
  {
   "cell_type": "markdown",
   "id": "1611dfbe",
   "metadata": {},
   "source": [
    "#### Afin de faciliter le travail, nous allons convertir tous les noms des variables en lettres minuscules:"
   ]
  },
  {
   "cell_type": "code",
   "execution_count": 381,
   "id": "ef5169fc",
   "metadata": {
    "id": "ef5169fc"
   },
   "outputs": [],
   "source": [
    "data.columns=data.columns.str.lower()"
   ]
  },
  {
   "cell_type": "code",
   "execution_count": 382,
   "id": "538faf59",
   "metadata": {
    "id": "538faf59",
    "outputId": "299b202e-0ce7-4d45-f119-495a620301c3"
   },
   "outputs": [
    {
     "data": {
      "text/plain": [
       "Index(['timestamp', 'age', 'gender', 'country', 'state', 'self_employed',\n",
       "       'family_history', 'treatment', 'work_interfere', 'no_employees',\n",
       "       'remote_work', 'tech_company', 'benefits', 'care_options',\n",
       "       'wellness_program', 'seek_help', 'anonymity', 'leave',\n",
       "       'mental_health_consequence', 'phys_health_consequence', 'coworkers',\n",
       "       'supervisor', 'mental_health_interview', 'phys_health_interview',\n",
       "       'mental_vs_physical', 'obs_consequence', 'comments'],\n",
       "      dtype='object')"
      ]
     },
     "execution_count": 382,
     "metadata": {},
     "output_type": "execute_result"
    }
   ],
   "source": [
    "data.columns"
   ]
  },
  {
   "cell_type": "code",
   "execution_count": 383,
   "id": "ca32a98f",
   "metadata": {},
   "outputs": [
    {
     "name": "stdout",
     "output_type": "stream",
     "text": [
      "<class 'pandas.core.frame.DataFrame'>\n",
      "RangeIndex: 1259 entries, 0 to 1258\n",
      "Data columns (total 27 columns):\n",
      " #   Column                     Non-Null Count  Dtype \n",
      "---  ------                     --------------  ----- \n",
      " 0   timestamp                  1259 non-null   object\n",
      " 1   age                        1259 non-null   int64 \n",
      " 2   gender                     1259 non-null   object\n",
      " 3   country                    1259 non-null   object\n",
      " 4   state                      744 non-null    object\n",
      " 5   self_employed              1241 non-null   object\n",
      " 6   family_history             1259 non-null   object\n",
      " 7   treatment                  1259 non-null   object\n",
      " 8   work_interfere             995 non-null    object\n",
      " 9   no_employees               1259 non-null   object\n",
      " 10  remote_work                1259 non-null   object\n",
      " 11  tech_company               1259 non-null   object\n",
      " 12  benefits                   1259 non-null   object\n",
      " 13  care_options               1259 non-null   object\n",
      " 14  wellness_program           1259 non-null   object\n",
      " 15  seek_help                  1259 non-null   object\n",
      " 16  anonymity                  1259 non-null   object\n",
      " 17  leave                      1259 non-null   object\n",
      " 18  mental_health_consequence  1259 non-null   object\n",
      " 19  phys_health_consequence    1259 non-null   object\n",
      " 20  coworkers                  1259 non-null   object\n",
      " 21  supervisor                 1259 non-null   object\n",
      " 22  mental_health_interview    1259 non-null   object\n",
      " 23  phys_health_interview      1259 non-null   object\n",
      " 24  mental_vs_physical         1259 non-null   object\n",
      " 25  obs_consequence            1259 non-null   object\n",
      " 26  comments                   164 non-null    object\n",
      "dtypes: int64(1), object(26)\n",
      "memory usage: 265.7+ KB\n",
      "None\n"
     ]
    }
   ],
   "source": [
    "print(data.info())"
   ]
  },
  {
   "cell_type": "code",
   "execution_count": 384,
   "id": "6a90055b",
   "metadata": {},
   "outputs": [
    {
     "data": {
      "text/html": [
       "<div>\n",
       "<style scoped>\n",
       "    .dataframe tbody tr th:only-of-type {\n",
       "        vertical-align: middle;\n",
       "    }\n",
       "\n",
       "    .dataframe tbody tr th {\n",
       "        vertical-align: top;\n",
       "    }\n",
       "\n",
       "    .dataframe thead th {\n",
       "        text-align: right;\n",
       "    }\n",
       "</style>\n",
       "<table border=\"1\" class=\"dataframe\">\n",
       "  <thead>\n",
       "    <tr style=\"text-align: right;\">\n",
       "      <th></th>\n",
       "      <th>timestamp</th>\n",
       "      <th>age</th>\n",
       "      <th>gender</th>\n",
       "      <th>country</th>\n",
       "      <th>state</th>\n",
       "      <th>self_employed</th>\n",
       "      <th>family_history</th>\n",
       "      <th>treatment</th>\n",
       "      <th>work_interfere</th>\n",
       "      <th>employee_numbers</th>\n",
       "      <th>...</th>\n",
       "      <th>medical_leave</th>\n",
       "      <th>mental_health_consequence</th>\n",
       "      <th>phys_health_consequence</th>\n",
       "      <th>coworkers</th>\n",
       "      <th>supervisor</th>\n",
       "      <th>mental_health_interview</th>\n",
       "      <th>phys_health_interview</th>\n",
       "      <th>mental_vs_physical</th>\n",
       "      <th>obs_consequence</th>\n",
       "      <th>comments</th>\n",
       "    </tr>\n",
       "  </thead>\n",
       "  <tbody>\n",
       "    <tr>\n",
       "      <th>0</th>\n",
       "      <td>27-08-14 11:29</td>\n",
       "      <td>37</td>\n",
       "      <td>Female</td>\n",
       "      <td>United States</td>\n",
       "      <td>IL</td>\n",
       "      <td>NaN</td>\n",
       "      <td>No</td>\n",
       "      <td>Yes</td>\n",
       "      <td>Often</td>\n",
       "      <td>Jun-25</td>\n",
       "      <td>...</td>\n",
       "      <td>Somewhat easy</td>\n",
       "      <td>No</td>\n",
       "      <td>No</td>\n",
       "      <td>Some of them</td>\n",
       "      <td>Yes</td>\n",
       "      <td>No</td>\n",
       "      <td>Maybe</td>\n",
       "      <td>Yes</td>\n",
       "      <td>No</td>\n",
       "      <td>NaN</td>\n",
       "    </tr>\n",
       "    <tr>\n",
       "      <th>1</th>\n",
       "      <td>27-08-14 11:29</td>\n",
       "      <td>44</td>\n",
       "      <td>M</td>\n",
       "      <td>United States</td>\n",
       "      <td>IN</td>\n",
       "      <td>NaN</td>\n",
       "      <td>No</td>\n",
       "      <td>No</td>\n",
       "      <td>Rarely</td>\n",
       "      <td>More than 1000</td>\n",
       "      <td>...</td>\n",
       "      <td>Don't know</td>\n",
       "      <td>Maybe</td>\n",
       "      <td>No</td>\n",
       "      <td>No</td>\n",
       "      <td>No</td>\n",
       "      <td>No</td>\n",
       "      <td>No</td>\n",
       "      <td>Don't know</td>\n",
       "      <td>No</td>\n",
       "      <td>NaN</td>\n",
       "    </tr>\n",
       "    <tr>\n",
       "      <th>2</th>\n",
       "      <td>27-08-14 11:29</td>\n",
       "      <td>32</td>\n",
       "      <td>Male</td>\n",
       "      <td>Canada</td>\n",
       "      <td>NaN</td>\n",
       "      <td>NaN</td>\n",
       "      <td>No</td>\n",
       "      <td>No</td>\n",
       "      <td>Rarely</td>\n",
       "      <td>Jun-25</td>\n",
       "      <td>...</td>\n",
       "      <td>Somewhat difficult</td>\n",
       "      <td>No</td>\n",
       "      <td>No</td>\n",
       "      <td>Yes</td>\n",
       "      <td>Yes</td>\n",
       "      <td>Yes</td>\n",
       "      <td>Yes</td>\n",
       "      <td>No</td>\n",
       "      <td>No</td>\n",
       "      <td>NaN</td>\n",
       "    </tr>\n",
       "  </tbody>\n",
       "</table>\n",
       "<p>3 rows × 27 columns</p>\n",
       "</div>"
      ],
      "text/plain": [
       "        timestamp  age  gender        country state self_employed  \\\n",
       "0  27-08-14 11:29   37  Female  United States    IL           NaN   \n",
       "1  27-08-14 11:29   44       M  United States    IN           NaN   \n",
       "2  27-08-14 11:29   32    Male         Canada   NaN           NaN   \n",
       "\n",
       "  family_history treatment work_interfere employee_numbers  ...  \\\n",
       "0             No       Yes          Often           Jun-25  ...   \n",
       "1             No        No         Rarely   More than 1000  ...   \n",
       "2             No        No         Rarely           Jun-25  ...   \n",
       "\n",
       "        medical_leave mental_health_consequence phys_health_consequence  \\\n",
       "0       Somewhat easy                        No                      No   \n",
       "1          Don't know                     Maybe                      No   \n",
       "2  Somewhat difficult                        No                      No   \n",
       "\n",
       "      coworkers supervisor mental_health_interview phys_health_interview  \\\n",
       "0  Some of them        Yes                      No                 Maybe   \n",
       "1            No         No                      No                    No   \n",
       "2           Yes        Yes                     Yes                   Yes   \n",
       "\n",
       "  mental_vs_physical obs_consequence comments  \n",
       "0                Yes              No      NaN  \n",
       "1         Don't know              No      NaN  \n",
       "2                 No              No      NaN  \n",
       "\n",
       "[3 rows x 27 columns]"
      ]
     },
     "execution_count": 384,
     "metadata": {},
     "output_type": "execute_result"
    }
   ],
   "source": [
    "data.rename(columns = {'no_employees':'employee_numbers'}, inplace = True)\n",
    "\n",
    "data.rename(columns = {'leave':'medical_leave'}, inplace = True)\n",
    "data.head(3)"
   ]
  },
  {
   "cell_type": "markdown",
   "id": "f08ac119",
   "metadata": {},
   "source": [
    "#### Notre base de donnee contient 27 colonnes (variables) et 1259 lignes (valeurs - candidats, qui ont répondu aux questions).\n",
    "#### Nous remarquons que toutes les variables sont de type objet, à l'exception de la variable \"age\" qui est numérique. Avant de procéder au décodage de ces variables, il est essentiel d'effectuer un nettoyage des données. Pendant cette étape, nous éliminerons les valeurs aberrantes, supprimerons les doublons et gérerons les valeurs manquantes.\n"
   ]
  },
  {
   "cell_type": "markdown",
   "id": "38938ebd",
   "metadata": {
    "id": "38938ebd"
   },
   "source": [
    "## 2. Data Cleaning"
   ]
  },
  {
   "cell_type": "markdown",
   "id": "7cc07d32",
   "metadata": {},
   "source": [
    "### Analyse des valeurs manquantes :"
   ]
  },
  {
   "cell_type": "code",
   "execution_count": 385,
   "id": "058a0ba9",
   "metadata": {},
   "outputs": [
    {
     "data": {
      "image/png": "[encoded data removed]",
      "text/plain": [
       "<Figure size 1800x720 with 3 Axes>"
      ]
     },
     "metadata": {
      "needs_background": "light"
     },
     "output_type": "display_data"
    }
   ],
   "source": [
    "import missingno as msno\n",
    "msno.bar(data,fontsize=15,color='red');"
   ]
  },
  {
   "cell_type": "code",
   "execution_count": 386,
   "id": "62dd1f06",
   "metadata": {
    "id": "62dd1f06",
    "outputId": "0311eb3b-6c73-475b-8358-6775d71d708b"
   },
   "outputs": [
    {
     "name": "stdout",
     "output_type": "stream",
     "text": [
      "                           somme_na  Percentage_na\n",
      "comments                       1095      86.973789\n",
      "state                           515      40.905481\n",
      "work_interfere                  264      20.969023\n",
      "self_employed                    18       1.429706\n",
      "seek_help                         0       0.000000\n",
      "obs_consequence                   0       0.000000\n",
      "mental_vs_physical                0       0.000000\n",
      "phys_health_interview             0       0.000000\n",
      "mental_health_interview           0       0.000000\n",
      "supervisor                        0       0.000000\n",
      "coworkers                         0       0.000000\n",
      "phys_health_consequence           0       0.000000\n",
      "mental_health_consequence         0       0.000000\n",
      "medical_leave                     0       0.000000\n",
      "anonymity                         0       0.000000\n",
      "timestamp                         0       0.000000\n",
      "wellness_program                  0       0.000000\n",
      "age                               0       0.000000\n",
      "benefits                          0       0.000000\n",
      "tech_company                      0       0.000000\n",
      "remote_work                       0       0.000000\n",
      "employee_numbers                  0       0.000000\n",
      "treatment                         0       0.000000\n",
      "family_history                    0       0.000000\n",
      "country                           0       0.000000\n",
      "gender                            0       0.000000\n",
      "care_options                      0       0.000000\n"
     ]
    }
   ],
   "source": [
    "somme =data.isnull().sum().sort_values(ascending=False)\n",
    "percentage = ((data.isnull().sum()/data.isnull().count()).sort_values(ascending=False))*100\n",
    "missing_values = pd.concat([somme, percentage], axis=1, keys=['somme_na', 'Percentage_na'])\n",
    "print(missing_values)"
   ]
  },
  {
   "cell_type": "code",
   "execution_count": 387,
   "id": "9c5b178c",
   "metadata": {},
   "outputs": [
    {
     "data": {
      "text/plain": [
       "CA    138\n",
       "WA     70\n",
       "NY     57\n",
       "TN     45\n",
       "TX     44\n",
       "OH     30\n",
       "IL     29\n",
       "OR     29\n",
       "PA     29\n",
       "IN     27\n",
       "MI     22\n",
       "MN     21\n",
       "MA     20\n",
       "FL     15\n",
       "NC     14\n",
       "VA     14\n",
       "WI     12\n",
       "GA     12\n",
       "MO     12\n",
       "UT     11\n",
       "CO      9\n",
       "MD      8\n",
       "AL      8\n",
       "AZ      7\n",
       "OK      6\n",
       "NJ      6\n",
       "KY      5\n",
       "SC      5\n",
       "IA      4\n",
       "CT      4\n",
       "DC      4\n",
       "NV      3\n",
       "VT      3\n",
       "SD      3\n",
       "KS      3\n",
       "NH      3\n",
       "WY      2\n",
       "NM      2\n",
       "NE      2\n",
       "WV      1\n",
       "ID      1\n",
       "MS      1\n",
       "RI      1\n",
       "LA      1\n",
       "ME      1\n",
       "Name: state, dtype: int64"
      ]
     },
     "execution_count": 387,
     "metadata": {},
     "output_type": "execute_result"
    }
   ],
   "source": [
    "data['state'].value_counts()"
   ]
  },
  {
   "cell_type": "markdown",
   "id": "ff86d7b8",
   "metadata": {},
   "source": [
    "#### On remarque que la colonne \"comments\" contient le plus grand nombre de valeurs nulles, avec 87% des données manquantes. Nous constatons également que la colonne \"state\" présente un taux de 40% de valeurs manquantes et toutes les réponses correspondent à des États des États-Unis.                                                                                                                                                          \n",
    "#### On trouve que la colonne \"timestamp\" est inutile pour l'analyse car ellecar elle contient la date, le mois, l'année et l'heure à laquelle le répondant a rempli ce questionnaire, ce qui est sans importance pour nous. Nous allons alors supprimer ces trois colonnes \"state\", \"comments\" et \"timestamp\"."
   ]
  },
  {
   "cell_type": "code",
   "execution_count": 388,
   "id": "436d72f7",
   "metadata": {},
   "outputs": [],
   "source": [
    "data.drop(columns=['comments','state','timestamp'],axis=1,inplace=True)"
   ]
  },
  {
   "cell_type": "code",
   "execution_count": 389,
   "id": "67701998",
   "metadata": {},
   "outputs": [
    {
     "data": {
      "text/html": [
       "<div>\n",
       "<style scoped>\n",
       "    .dataframe tbody tr th:only-of-type {\n",
       "        vertical-align: middle;\n",
       "    }\n",
       "\n",
       "    .dataframe tbody tr th {\n",
       "        vertical-align: top;\n",
       "    }\n",
       "\n",
       "    .dataframe thead th {\n",
       "        text-align: right;\n",
       "    }\n",
       "</style>\n",
       "<table border=\"1\" class=\"dataframe\">\n",
       "  <thead>\n",
       "    <tr style=\"text-align: right;\">\n",
       "      <th></th>\n",
       "      <th>age</th>\n",
       "      <th>gender</th>\n",
       "      <th>country</th>\n",
       "      <th>self_employed</th>\n",
       "      <th>family_history</th>\n",
       "      <th>treatment</th>\n",
       "      <th>work_interfere</th>\n",
       "      <th>employee_numbers</th>\n",
       "      <th>remote_work</th>\n",
       "      <th>tech_company</th>\n",
       "      <th>...</th>\n",
       "      <th>anonymity</th>\n",
       "      <th>medical_leave</th>\n",
       "      <th>mental_health_consequence</th>\n",
       "      <th>phys_health_consequence</th>\n",
       "      <th>coworkers</th>\n",
       "      <th>supervisor</th>\n",
       "      <th>mental_health_interview</th>\n",
       "      <th>phys_health_interview</th>\n",
       "      <th>mental_vs_physical</th>\n",
       "      <th>obs_consequence</th>\n",
       "    </tr>\n",
       "  </thead>\n",
       "  <tbody>\n",
       "    <tr>\n",
       "      <th>0</th>\n",
       "      <td>37</td>\n",
       "      <td>Female</td>\n",
       "      <td>United States</td>\n",
       "      <td>NaN</td>\n",
       "      <td>No</td>\n",
       "      <td>Yes</td>\n",
       "      <td>Often</td>\n",
       "      <td>Jun-25</td>\n",
       "      <td>No</td>\n",
       "      <td>Yes</td>\n",
       "      <td>...</td>\n",
       "      <td>Yes</td>\n",
       "      <td>Somewhat easy</td>\n",
       "      <td>No</td>\n",
       "      <td>No</td>\n",
       "      <td>Some of them</td>\n",
       "      <td>Yes</td>\n",
       "      <td>No</td>\n",
       "      <td>Maybe</td>\n",
       "      <td>Yes</td>\n",
       "      <td>No</td>\n",
       "    </tr>\n",
       "    <tr>\n",
       "      <th>1</th>\n",
       "      <td>44</td>\n",
       "      <td>M</td>\n",
       "      <td>United States</td>\n",
       "      <td>NaN</td>\n",
       "      <td>No</td>\n",
       "      <td>No</td>\n",
       "      <td>Rarely</td>\n",
       "      <td>More than 1000</td>\n",
       "      <td>No</td>\n",
       "      <td>No</td>\n",
       "      <td>...</td>\n",
       "      <td>Don't know</td>\n",
       "      <td>Don't know</td>\n",
       "      <td>Maybe</td>\n",
       "      <td>No</td>\n",
       "      <td>No</td>\n",
       "      <td>No</td>\n",
       "      <td>No</td>\n",
       "      <td>No</td>\n",
       "      <td>Don't know</td>\n",
       "      <td>No</td>\n",
       "    </tr>\n",
       "    <tr>\n",
       "      <th>2</th>\n",
       "      <td>32</td>\n",
       "      <td>Male</td>\n",
       "      <td>Canada</td>\n",
       "      <td>NaN</td>\n",
       "      <td>No</td>\n",
       "      <td>No</td>\n",
       "      <td>Rarely</td>\n",
       "      <td>Jun-25</td>\n",
       "      <td>No</td>\n",
       "      <td>Yes</td>\n",
       "      <td>...</td>\n",
       "      <td>Don't know</td>\n",
       "      <td>Somewhat difficult</td>\n",
       "      <td>No</td>\n",
       "      <td>No</td>\n",
       "      <td>Yes</td>\n",
       "      <td>Yes</td>\n",
       "      <td>Yes</td>\n",
       "      <td>Yes</td>\n",
       "      <td>No</td>\n",
       "      <td>No</td>\n",
       "    </tr>\n",
       "    <tr>\n",
       "      <th>3</th>\n",
       "      <td>31</td>\n",
       "      <td>Male</td>\n",
       "      <td>United Kingdom</td>\n",
       "      <td>NaN</td>\n",
       "      <td>Yes</td>\n",
       "      <td>Yes</td>\n",
       "      <td>Often</td>\n",
       "      <td>26-100</td>\n",
       "      <td>No</td>\n",
       "      <td>Yes</td>\n",
       "      <td>...</td>\n",
       "      <td>No</td>\n",
       "      <td>Somewhat difficult</td>\n",
       "      <td>Yes</td>\n",
       "      <td>Yes</td>\n",
       "      <td>Some of them</td>\n",
       "      <td>No</td>\n",
       "      <td>Maybe</td>\n",
       "      <td>Maybe</td>\n",
       "      <td>No</td>\n",
       "      <td>Yes</td>\n",
       "    </tr>\n",
       "    <tr>\n",
       "      <th>4</th>\n",
       "      <td>31</td>\n",
       "      <td>Male</td>\n",
       "      <td>United States</td>\n",
       "      <td>NaN</td>\n",
       "      <td>No</td>\n",
       "      <td>No</td>\n",
       "      <td>Never</td>\n",
       "      <td>100-500</td>\n",
       "      <td>Yes</td>\n",
       "      <td>Yes</td>\n",
       "      <td>...</td>\n",
       "      <td>Don't know</td>\n",
       "      <td>Don't know</td>\n",
       "      <td>No</td>\n",
       "      <td>No</td>\n",
       "      <td>Some of them</td>\n",
       "      <td>Yes</td>\n",
       "      <td>Yes</td>\n",
       "      <td>Yes</td>\n",
       "      <td>Don't know</td>\n",
       "      <td>No</td>\n",
       "    </tr>\n",
       "    <tr>\n",
       "      <th>...</th>\n",
       "      <td>...</td>\n",
       "      <td>...</td>\n",
       "      <td>...</td>\n",
       "      <td>...</td>\n",
       "      <td>...</td>\n",
       "      <td>...</td>\n",
       "      <td>...</td>\n",
       "      <td>...</td>\n",
       "      <td>...</td>\n",
       "      <td>...</td>\n",
       "      <td>...</td>\n",
       "      <td>...</td>\n",
       "      <td>...</td>\n",
       "      <td>...</td>\n",
       "      <td>...</td>\n",
       "      <td>...</td>\n",
       "      <td>...</td>\n",
       "      <td>...</td>\n",
       "      <td>...</td>\n",
       "      <td>...</td>\n",
       "      <td>...</td>\n",
       "    </tr>\n",
       "    <tr>\n",
       "      <th>1254</th>\n",
       "      <td>26</td>\n",
       "      <td>male</td>\n",
       "      <td>United Kingdom</td>\n",
       "      <td>No</td>\n",
       "      <td>No</td>\n",
       "      <td>Yes</td>\n",
       "      <td>NaN</td>\n",
       "      <td>26-100</td>\n",
       "      <td>No</td>\n",
       "      <td>Yes</td>\n",
       "      <td>...</td>\n",
       "      <td>Don't know</td>\n",
       "      <td>Somewhat easy</td>\n",
       "      <td>No</td>\n",
       "      <td>No</td>\n",
       "      <td>Some of them</td>\n",
       "      <td>Some of them</td>\n",
       "      <td>No</td>\n",
       "      <td>No</td>\n",
       "      <td>Don't know</td>\n",
       "      <td>No</td>\n",
       "    </tr>\n",
       "    <tr>\n",
       "      <th>1255</th>\n",
       "      <td>32</td>\n",
       "      <td>Male</td>\n",
       "      <td>United States</td>\n",
       "      <td>No</td>\n",
       "      <td>Yes</td>\n",
       "      <td>Yes</td>\n",
       "      <td>Often</td>\n",
       "      <td>26-100</td>\n",
       "      <td>Yes</td>\n",
       "      <td>Yes</td>\n",
       "      <td>...</td>\n",
       "      <td>Yes</td>\n",
       "      <td>Somewhat difficult</td>\n",
       "      <td>No</td>\n",
       "      <td>No</td>\n",
       "      <td>Some of them</td>\n",
       "      <td>Yes</td>\n",
       "      <td>No</td>\n",
       "      <td>No</td>\n",
       "      <td>Yes</td>\n",
       "      <td>No</td>\n",
       "    </tr>\n",
       "    <tr>\n",
       "      <th>1256</th>\n",
       "      <td>34</td>\n",
       "      <td>male</td>\n",
       "      <td>United States</td>\n",
       "      <td>No</td>\n",
       "      <td>Yes</td>\n",
       "      <td>Yes</td>\n",
       "      <td>Sometimes</td>\n",
       "      <td>More than 1000</td>\n",
       "      <td>No</td>\n",
       "      <td>Yes</td>\n",
       "      <td>...</td>\n",
       "      <td>Don't know</td>\n",
       "      <td>Somewhat difficult</td>\n",
       "      <td>Yes</td>\n",
       "      <td>Yes</td>\n",
       "      <td>No</td>\n",
       "      <td>No</td>\n",
       "      <td>No</td>\n",
       "      <td>No</td>\n",
       "      <td>No</td>\n",
       "      <td>No</td>\n",
       "    </tr>\n",
       "    <tr>\n",
       "      <th>1257</th>\n",
       "      <td>46</td>\n",
       "      <td>f</td>\n",
       "      <td>United States</td>\n",
       "      <td>No</td>\n",
       "      <td>No</td>\n",
       "      <td>No</td>\n",
       "      <td>NaN</td>\n",
       "      <td>100-500</td>\n",
       "      <td>Yes</td>\n",
       "      <td>Yes</td>\n",
       "      <td>...</td>\n",
       "      <td>Don't know</td>\n",
       "      <td>Don't know</td>\n",
       "      <td>Yes</td>\n",
       "      <td>No</td>\n",
       "      <td>No</td>\n",
       "      <td>No</td>\n",
       "      <td>No</td>\n",
       "      <td>No</td>\n",
       "      <td>No</td>\n",
       "      <td>No</td>\n",
       "    </tr>\n",
       "    <tr>\n",
       "      <th>1258</th>\n",
       "      <td>25</td>\n",
       "      <td>Male</td>\n",
       "      <td>United States</td>\n",
       "      <td>No</td>\n",
       "      <td>Yes</td>\n",
       "      <td>Yes</td>\n",
       "      <td>Sometimes</td>\n",
       "      <td>26-100</td>\n",
       "      <td>No</td>\n",
       "      <td>No</td>\n",
       "      <td>...</td>\n",
       "      <td>Yes</td>\n",
       "      <td>Don't know</td>\n",
       "      <td>Maybe</td>\n",
       "      <td>No</td>\n",
       "      <td>Some of them</td>\n",
       "      <td>No</td>\n",
       "      <td>No</td>\n",
       "      <td>No</td>\n",
       "      <td>Don't know</td>\n",
       "      <td>No</td>\n",
       "    </tr>\n",
       "  </tbody>\n",
       "</table>\n",
       "<p>1259 rows × 24 columns</p>\n",
       "</div>"
      ],
      "text/plain": [
       "      age  gender         country self_employed family_history treatment  \\\n",
       "0      37  Female   United States           NaN             No       Yes   \n",
       "1      44       M   United States           NaN             No        No   \n",
       "2      32    Male          Canada           NaN             No        No   \n",
       "3      31    Male  United Kingdom           NaN            Yes       Yes   \n",
       "4      31    Male   United States           NaN             No        No   \n",
       "...   ...     ...             ...           ...            ...       ...   \n",
       "1254   26    male  United Kingdom            No             No       Yes   \n",
       "1255   32    Male   United States            No            Yes       Yes   \n",
       "1256   34    male   United States            No            Yes       Yes   \n",
       "1257   46       f   United States            No             No        No   \n",
       "1258   25    Male   United States            No            Yes       Yes   \n",
       "\n",
       "     work_interfere employee_numbers remote_work tech_company  ...  \\\n",
       "0             Often           Jun-25          No          Yes  ...   \n",
       "1            Rarely   More than 1000          No           No  ...   \n",
       "2            Rarely           Jun-25          No          Yes  ...   \n",
       "3             Often           26-100          No          Yes  ...   \n",
       "4             Never          100-500         Yes          Yes  ...   \n",
       "...             ...              ...         ...          ...  ...   \n",
       "1254            NaN           26-100          No          Yes  ...   \n",
       "1255          Often           26-100         Yes          Yes  ...   \n",
       "1256      Sometimes   More than 1000          No          Yes  ...   \n",
       "1257            NaN          100-500         Yes          Yes  ...   \n",
       "1258      Sometimes           26-100          No           No  ...   \n",
       "\n",
       "       anonymity       medical_leave mental_health_consequence  \\\n",
       "0            Yes       Somewhat easy                        No   \n",
       "1     Don't know          Don't know                     Maybe   \n",
       "2     Don't know  Somewhat difficult                        No   \n",
       "3             No  Somewhat difficult                       Yes   \n",
       "4     Don't know          Don't know                        No   \n",
       "...          ...                 ...                       ...   \n",
       "1254  Don't know       Somewhat easy                        No   \n",
       "1255         Yes  Somewhat difficult                        No   \n",
       "1256  Don't know  Somewhat difficult                       Yes   \n",
       "1257  Don't know          Don't know                       Yes   \n",
       "1258         Yes          Don't know                     Maybe   \n",
       "\n",
       "     phys_health_consequence     coworkers    supervisor  \\\n",
       "0                         No  Some of them           Yes   \n",
       "1                         No            No            No   \n",
       "2                         No           Yes           Yes   \n",
       "3                        Yes  Some of them            No   \n",
       "4                         No  Some of them           Yes   \n",
       "...                      ...           ...           ...   \n",
       "1254                      No  Some of them  Some of them   \n",
       "1255                      No  Some of them           Yes   \n",
       "1256                     Yes            No            No   \n",
       "1257                      No            No            No   \n",
       "1258                      No  Some of them            No   \n",
       "\n",
       "     mental_health_interview phys_health_interview mental_vs_physical  \\\n",
       "0                         No                 Maybe                Yes   \n",
       "1                         No                    No         Don't know   \n",
       "2                        Yes                   Yes                 No   \n",
       "3                      Maybe                 Maybe                 No   \n",
       "4                        Yes                   Yes         Don't know   \n",
       "...                      ...                   ...                ...   \n",
       "1254                      No                    No         Don't know   \n",
       "1255                      No                    No                Yes   \n",
       "1256                      No                    No                 No   \n",
       "1257                      No                    No                 No   \n",
       "1258                      No                    No         Don't know   \n",
       "\n",
       "     obs_consequence  \n",
       "0                 No  \n",
       "1                 No  \n",
       "2                 No  \n",
       "3                Yes  \n",
       "4                 No  \n",
       "...              ...  \n",
       "1254              No  \n",
       "1255              No  \n",
       "1256              No  \n",
       "1257              No  \n",
       "1258              No  \n",
       "\n",
       "[1259 rows x 24 columns]"
      ]
     },
     "execution_count": 389,
     "metadata": {},
     "output_type": "execute_result"
    }
   ],
   "source": [
    "data"
   ]
  },
  {
   "cell_type": "markdown",
   "id": "d288f678",
   "metadata": {},
   "source": [
    "#### 20% des données pour \"self employed\" sont manquantes. Nous allons donc remplacer les valeurs manquantes par \"NO\" c'est a dire non self employed. \n",
    "#### La variable \"Work_interfere\" contient près de 20% de valeurs nulles. Par conséquent, nous allons remplacer ces valeurs par \"Don't know\" étant donné qu'elles n'ont pas été renseignées par les répondants."
   ]
  },
  {
   "cell_type": "code",
   "execution_count": 390,
   "id": "a84245a9",
   "metadata": {},
   "outputs": [
    {
     "name": "stdout",
     "output_type": "stream",
     "text": [
      "['No' 'Yes']\n"
     ]
    }
   ],
   "source": [
    "data['self_employed'] = data['self_employed'].fillna('No')\n",
    "print(data['self_employed'].unique())"
   ]
  },
  {
   "cell_type": "code",
   "execution_count": 391,
   "id": "93d409cd",
   "metadata": {},
   "outputs": [
    {
     "name": "stdout",
     "output_type": "stream",
     "text": [
      "['Often' 'Rarely' 'Never' 'Sometimes' \"Don't know\"]\n"
     ]
    }
   ],
   "source": [
    "data['work_interfere'] = data['work_interfere'].fillna('Don\\'t know' )\n",
    "print(data['work_interfere'].unique())"
   ]
  },
  {
   "cell_type": "code",
   "execution_count": 392,
   "id": "7888f322",
   "metadata": {},
   "outputs": [
    {
     "data": {
      "text/html": [
       "<div>\n",
       "<style scoped>\n",
       "    .dataframe tbody tr th:only-of-type {\n",
       "        vertical-align: middle;\n",
       "    }\n",
       "\n",
       "    .dataframe tbody tr th {\n",
       "        vertical-align: top;\n",
       "    }\n",
       "\n",
       "    .dataframe thead th {\n",
       "        text-align: right;\n",
       "    }\n",
       "</style>\n",
       "<table border=\"1\" class=\"dataframe\">\n",
       "  <thead>\n",
       "    <tr style=\"text-align: right;\">\n",
       "      <th></th>\n",
       "      <th>age</th>\n",
       "      <th>gender</th>\n",
       "      <th>country</th>\n",
       "      <th>self_employed</th>\n",
       "      <th>family_history</th>\n",
       "      <th>treatment</th>\n",
       "      <th>work_interfere</th>\n",
       "      <th>employee_numbers</th>\n",
       "      <th>remote_work</th>\n",
       "      <th>tech_company</th>\n",
       "      <th>...</th>\n",
       "      <th>anonymity</th>\n",
       "      <th>medical_leave</th>\n",
       "      <th>mental_health_consequence</th>\n",
       "      <th>phys_health_consequence</th>\n",
       "      <th>coworkers</th>\n",
       "      <th>supervisor</th>\n",
       "      <th>mental_health_interview</th>\n",
       "      <th>phys_health_interview</th>\n",
       "      <th>mental_vs_physical</th>\n",
       "      <th>obs_consequence</th>\n",
       "    </tr>\n",
       "  </thead>\n",
       "  <tbody>\n",
       "    <tr>\n",
       "      <th>0</th>\n",
       "      <td>37</td>\n",
       "      <td>Female</td>\n",
       "      <td>United States</td>\n",
       "      <td>No</td>\n",
       "      <td>No</td>\n",
       "      <td>Yes</td>\n",
       "      <td>Often</td>\n",
       "      <td>Jun-25</td>\n",
       "      <td>No</td>\n",
       "      <td>Yes</td>\n",
       "      <td>...</td>\n",
       "      <td>Yes</td>\n",
       "      <td>Somewhat easy</td>\n",
       "      <td>No</td>\n",
       "      <td>No</td>\n",
       "      <td>Some of them</td>\n",
       "      <td>Yes</td>\n",
       "      <td>No</td>\n",
       "      <td>Maybe</td>\n",
       "      <td>Yes</td>\n",
       "      <td>No</td>\n",
       "    </tr>\n",
       "    <tr>\n",
       "      <th>1</th>\n",
       "      <td>44</td>\n",
       "      <td>M</td>\n",
       "      <td>United States</td>\n",
       "      <td>No</td>\n",
       "      <td>No</td>\n",
       "      <td>No</td>\n",
       "      <td>Rarely</td>\n",
       "      <td>More than 1000</td>\n",
       "      <td>No</td>\n",
       "      <td>No</td>\n",
       "      <td>...</td>\n",
       "      <td>Don't know</td>\n",
       "      <td>Don't know</td>\n",
       "      <td>Maybe</td>\n",
       "      <td>No</td>\n",
       "      <td>No</td>\n",
       "      <td>No</td>\n",
       "      <td>No</td>\n",
       "      <td>No</td>\n",
       "      <td>Don't know</td>\n",
       "      <td>No</td>\n",
       "    </tr>\n",
       "    <tr>\n",
       "      <th>2</th>\n",
       "      <td>32</td>\n",
       "      <td>Male</td>\n",
       "      <td>Canada</td>\n",
       "      <td>No</td>\n",
       "      <td>No</td>\n",
       "      <td>No</td>\n",
       "      <td>Rarely</td>\n",
       "      <td>Jun-25</td>\n",
       "      <td>No</td>\n",
       "      <td>Yes</td>\n",
       "      <td>...</td>\n",
       "      <td>Don't know</td>\n",
       "      <td>Somewhat difficult</td>\n",
       "      <td>No</td>\n",
       "      <td>No</td>\n",
       "      <td>Yes</td>\n",
       "      <td>Yes</td>\n",
       "      <td>Yes</td>\n",
       "      <td>Yes</td>\n",
       "      <td>No</td>\n",
       "      <td>No</td>\n",
       "    </tr>\n",
       "    <tr>\n",
       "      <th>3</th>\n",
       "      <td>31</td>\n",
       "      <td>Male</td>\n",
       "      <td>United Kingdom</td>\n",
       "      <td>No</td>\n",
       "      <td>Yes</td>\n",
       "      <td>Yes</td>\n",
       "      <td>Often</td>\n",
       "      <td>26-100</td>\n",
       "      <td>No</td>\n",
       "      <td>Yes</td>\n",
       "      <td>...</td>\n",
       "      <td>No</td>\n",
       "      <td>Somewhat difficult</td>\n",
       "      <td>Yes</td>\n",
       "      <td>Yes</td>\n",
       "      <td>Some of them</td>\n",
       "      <td>No</td>\n",
       "      <td>Maybe</td>\n",
       "      <td>Maybe</td>\n",
       "      <td>No</td>\n",
       "      <td>Yes</td>\n",
       "    </tr>\n",
       "    <tr>\n",
       "      <th>4</th>\n",
       "      <td>31</td>\n",
       "      <td>Male</td>\n",
       "      <td>United States</td>\n",
       "      <td>No</td>\n",
       "      <td>No</td>\n",
       "      <td>No</td>\n",
       "      <td>Never</td>\n",
       "      <td>100-500</td>\n",
       "      <td>Yes</td>\n",
       "      <td>Yes</td>\n",
       "      <td>...</td>\n",
       "      <td>Don't know</td>\n",
       "      <td>Don't know</td>\n",
       "      <td>No</td>\n",
       "      <td>No</td>\n",
       "      <td>Some of them</td>\n",
       "      <td>Yes</td>\n",
       "      <td>Yes</td>\n",
       "      <td>Yes</td>\n",
       "      <td>Don't know</td>\n",
       "      <td>No</td>\n",
       "    </tr>\n",
       "  </tbody>\n",
       "</table>\n",
       "<p>5 rows × 24 columns</p>\n",
       "</div>"
      ],
      "text/plain": [
       "   age  gender         country self_employed family_history treatment  \\\n",
       "0   37  Female   United States            No             No       Yes   \n",
       "1   44       M   United States            No             No        No   \n",
       "2   32    Male          Canada            No             No        No   \n",
       "3   31    Male  United Kingdom            No            Yes       Yes   \n",
       "4   31    Male   United States            No             No        No   \n",
       "\n",
       "  work_interfere employee_numbers remote_work tech_company  ...   anonymity  \\\n",
       "0          Often           Jun-25          No          Yes  ...         Yes   \n",
       "1         Rarely   More than 1000          No           No  ...  Don't know   \n",
       "2         Rarely           Jun-25          No          Yes  ...  Don't know   \n",
       "3          Often           26-100          No          Yes  ...          No   \n",
       "4          Never          100-500         Yes          Yes  ...  Don't know   \n",
       "\n",
       "        medical_leave mental_health_consequence phys_health_consequence  \\\n",
       "0       Somewhat easy                        No                      No   \n",
       "1          Don't know                     Maybe                      No   \n",
       "2  Somewhat difficult                        No                      No   \n",
       "3  Somewhat difficult                       Yes                     Yes   \n",
       "4          Don't know                        No                      No   \n",
       "\n",
       "      coworkers supervisor mental_health_interview phys_health_interview  \\\n",
       "0  Some of them        Yes                      No                 Maybe   \n",
       "1            No         No                      No                    No   \n",
       "2           Yes        Yes                     Yes                   Yes   \n",
       "3  Some of them         No                   Maybe                 Maybe   \n",
       "4  Some of them        Yes                     Yes                   Yes   \n",
       "\n",
       "  mental_vs_physical obs_consequence  \n",
       "0                Yes              No  \n",
       "1         Don't know              No  \n",
       "2                 No              No  \n",
       "3                 No             Yes  \n",
       "4         Don't know              No  \n",
       "\n",
       "[5 rows x 24 columns]"
      ]
     },
     "execution_count": 392,
     "metadata": {},
     "output_type": "execute_result"
    }
   ],
   "source": [
    "data.head()"
   ]
  },
  {
   "cell_type": "markdown",
   "id": "59a891a4",
   "metadata": {},
   "source": [
    "### Analyse de la variable \"country\""
   ]
  },
  {
   "cell_type": "code",
   "execution_count": 393,
   "id": "103e1608",
   "metadata": {},
   "outputs": [
    {
     "name": "stdout",
     "output_type": "stream",
     "text": [
      "United States             751\n",
      "United Kingdom            185\n",
      "Canada                     72\n",
      "Germany                    45\n",
      "Ireland                    27\n",
      "Netherlands                27\n",
      "Australia                  21\n",
      "France                     13\n",
      "India                      10\n",
      "New Zealand                 8\n",
      "Poland                      7\n",
      "Switzerland                 7\n",
      "Sweden                      7\n",
      "Italy                       7\n",
      "South Africa                6\n",
      "Belgium                     6\n",
      "Brazil                      6\n",
      "Israel                      5\n",
      "Singapore                   4\n",
      "Bulgaria                    4\n",
      "Austria                     3\n",
      "Finland                     3\n",
      "Mexico                      3\n",
      "Russia                      3\n",
      "Denmark                     2\n",
      "Greece                      2\n",
      "Colombia                    2\n",
      "Croatia                     2\n",
      "Portugal                    2\n",
      "Moldova                     1\n",
      "Georgia                     1\n",
      "Bahamas, The                1\n",
      "China                       1\n",
      "Thailand                    1\n",
      "Czech Republic              1\n",
      "Norway                      1\n",
      "Romania                     1\n",
      "Nigeria                     1\n",
      "Japan                       1\n",
      "Hungary                     1\n",
      "Bosnia and Herzegovina      1\n",
      "Uruguay                     1\n",
      "Spain                       1\n",
      "Zimbabwe                    1\n",
      "Latvia                      1\n",
      "Costa Rica                  1\n",
      "Slovenia                    1\n",
      "Philippines                 1\n",
      "Name: country, dtype: int64\n"
     ]
    }
   ],
   "source": [
    "print(data['country'].value_counts())"
   ]
  },
  {
   "cell_type": "markdown",
   "id": "a22fab3e",
   "metadata": {},
   "source": [
    "#### On remarque que la plupart des reponses sont des États-Unis. Il serait donc trompeur de conclure qu'un certain pays est confronté par des problèmes de santé mentale chez les employés que d'autres pays De plus, de nombreux pays n'ont qu'un seul répondant, ce qui rend la colonne \"pays\" peu significative. Nous allons donc la supprimer."
   ]
  },
  {
   "cell_type": "code",
   "execution_count": 394,
   "id": "097e4e66",
   "metadata": {},
   "outputs": [],
   "source": [
    "data.drop(columns=['country'],axis=1,inplace=True)"
   ]
  },
  {
   "cell_type": "markdown",
   "id": "81b4ef2c",
   "metadata": {},
   "source": [
    "### Analyse de la variable \"age\":"
   ]
  },
  {
   "cell_type": "code",
   "execution_count": 395,
   "id": "21e3bab1",
   "metadata": {
    "id": "21e3bab1",
    "outputId": "ef72eea1-f0aa-4c67-b031-3872c1e62675"
   },
   "outputs": [
    {
     "data": {
      "text/html": [
       "<div>\n",
       "<style scoped>\n",
       "    .dataframe tbody tr th:only-of-type {\n",
       "        vertical-align: middle;\n",
       "    }\n",
       "\n",
       "    .dataframe tbody tr th {\n",
       "        vertical-align: top;\n",
       "    }\n",
       "\n",
       "    .dataframe thead th {\n",
       "        text-align: right;\n",
       "    }\n",
       "</style>\n",
       "<table border=\"1\" class=\"dataframe\">\n",
       "  <thead>\n",
       "    <tr style=\"text-align: right;\">\n",
       "      <th></th>\n",
       "      <th>index</th>\n",
       "      <th>age</th>\n",
       "    </tr>\n",
       "  </thead>\n",
       "  <tbody>\n",
       "    <tr>\n",
       "      <th>0</th>\n",
       "      <td>29</td>\n",
       "      <td>85</td>\n",
       "    </tr>\n",
       "    <tr>\n",
       "      <th>1</th>\n",
       "      <td>32</td>\n",
       "      <td>82</td>\n",
       "    </tr>\n",
       "    <tr>\n",
       "      <th>2</th>\n",
       "      <td>26</td>\n",
       "      <td>75</td>\n",
       "    </tr>\n",
       "    <tr>\n",
       "      <th>3</th>\n",
       "      <td>27</td>\n",
       "      <td>71</td>\n",
       "    </tr>\n",
       "    <tr>\n",
       "      <th>4</th>\n",
       "      <td>33</td>\n",
       "      <td>70</td>\n",
       "    </tr>\n",
       "    <tr>\n",
       "      <th>5</th>\n",
       "      <td>28</td>\n",
       "      <td>68</td>\n",
       "    </tr>\n",
       "    <tr>\n",
       "      <th>6</th>\n",
       "      <td>31</td>\n",
       "      <td>67</td>\n",
       "    </tr>\n",
       "    <tr>\n",
       "      <th>7</th>\n",
       "      <td>34</td>\n",
       "      <td>65</td>\n",
       "    </tr>\n",
       "    <tr>\n",
       "      <th>8</th>\n",
       "      <td>30</td>\n",
       "      <td>63</td>\n",
       "    </tr>\n",
       "    <tr>\n",
       "      <th>9</th>\n",
       "      <td>25</td>\n",
       "      <td>61</td>\n",
       "    </tr>\n",
       "    <tr>\n",
       "      <th>10</th>\n",
       "      <td>35</td>\n",
       "      <td>55</td>\n",
       "    </tr>\n",
       "    <tr>\n",
       "      <th>11</th>\n",
       "      <td>23</td>\n",
       "      <td>51</td>\n",
       "    </tr>\n",
       "    <tr>\n",
       "      <th>12</th>\n",
       "      <td>24</td>\n",
       "      <td>46</td>\n",
       "    </tr>\n",
       "    <tr>\n",
       "      <th>13</th>\n",
       "      <td>37</td>\n",
       "      <td>43</td>\n",
       "    </tr>\n",
       "    <tr>\n",
       "      <th>14</th>\n",
       "      <td>38</td>\n",
       "      <td>39</td>\n",
       "    </tr>\n",
       "    <tr>\n",
       "      <th>15</th>\n",
       "      <td>36</td>\n",
       "      <td>37</td>\n",
       "    </tr>\n",
       "    <tr>\n",
       "      <th>16</th>\n",
       "      <td>40</td>\n",
       "      <td>33</td>\n",
       "    </tr>\n",
       "    <tr>\n",
       "      <th>17</th>\n",
       "      <td>39</td>\n",
       "      <td>33</td>\n",
       "    </tr>\n",
       "    <tr>\n",
       "      <th>18</th>\n",
       "      <td>43</td>\n",
       "      <td>28</td>\n",
       "    </tr>\n",
       "    <tr>\n",
       "      <th>19</th>\n",
       "      <td>22</td>\n",
       "      <td>21</td>\n",
       "    </tr>\n",
       "    <tr>\n",
       "      <th>20</th>\n",
       "      <td>41</td>\n",
       "      <td>21</td>\n",
       "    </tr>\n",
       "    <tr>\n",
       "      <th>21</th>\n",
       "      <td>42</td>\n",
       "      <td>20</td>\n",
       "    </tr>\n",
       "    <tr>\n",
       "      <th>22</th>\n",
       "      <td>21</td>\n",
       "      <td>16</td>\n",
       "    </tr>\n",
       "    <tr>\n",
       "      <th>23</th>\n",
       "      <td>45</td>\n",
       "      <td>12</td>\n",
       "    </tr>\n",
       "    <tr>\n",
       "      <th>24</th>\n",
       "      <td>46</td>\n",
       "      <td>12</td>\n",
       "    </tr>\n",
       "    <tr>\n",
       "      <th>25</th>\n",
       "      <td>44</td>\n",
       "      <td>11</td>\n",
       "    </tr>\n",
       "    <tr>\n",
       "      <th>26</th>\n",
       "      <td>19</td>\n",
       "      <td>9</td>\n",
       "    </tr>\n",
       "    <tr>\n",
       "      <th>27</th>\n",
       "      <td>18</td>\n",
       "      <td>7</td>\n",
       "    </tr>\n",
       "    <tr>\n",
       "      <th>28</th>\n",
       "      <td>48</td>\n",
       "      <td>6</td>\n",
       "    </tr>\n",
       "    <tr>\n",
       "      <th>29</th>\n",
       "      <td>50</td>\n",
       "      <td>6</td>\n",
       "    </tr>\n",
       "    <tr>\n",
       "      <th>30</th>\n",
       "      <td>20</td>\n",
       "      <td>6</td>\n",
       "    </tr>\n",
       "    <tr>\n",
       "      <th>31</th>\n",
       "      <td>51</td>\n",
       "      <td>5</td>\n",
       "    </tr>\n",
       "    <tr>\n",
       "      <th>32</th>\n",
       "      <td>49</td>\n",
       "      <td>4</td>\n",
       "    </tr>\n",
       "    <tr>\n",
       "      <th>33</th>\n",
       "      <td>56</td>\n",
       "      <td>4</td>\n",
       "    </tr>\n",
       "    <tr>\n",
       "      <th>34</th>\n",
       "      <td>57</td>\n",
       "      <td>3</td>\n",
       "    </tr>\n",
       "    <tr>\n",
       "      <th>35</th>\n",
       "      <td>54</td>\n",
       "      <td>3</td>\n",
       "    </tr>\n",
       "    <tr>\n",
       "      <th>36</th>\n",
       "      <td>55</td>\n",
       "      <td>3</td>\n",
       "    </tr>\n",
       "    <tr>\n",
       "      <th>37</th>\n",
       "      <td>47</td>\n",
       "      <td>2</td>\n",
       "    </tr>\n",
       "    <tr>\n",
       "      <th>38</th>\n",
       "      <td>60</td>\n",
       "      <td>2</td>\n",
       "    </tr>\n",
       "    <tr>\n",
       "      <th>39</th>\n",
       "      <td>99999999999</td>\n",
       "      <td>1</td>\n",
       "    </tr>\n",
       "    <tr>\n",
       "      <th>40</th>\n",
       "      <td>5</td>\n",
       "      <td>1</td>\n",
       "    </tr>\n",
       "    <tr>\n",
       "      <th>41</th>\n",
       "      <td>-1</td>\n",
       "      <td>1</td>\n",
       "    </tr>\n",
       "    <tr>\n",
       "      <th>42</th>\n",
       "      <td>11</td>\n",
       "      <td>1</td>\n",
       "    </tr>\n",
       "    <tr>\n",
       "      <th>43</th>\n",
       "      <td>8</td>\n",
       "      <td>1</td>\n",
       "    </tr>\n",
       "    <tr>\n",
       "      <th>44</th>\n",
       "      <td>61</td>\n",
       "      <td>1</td>\n",
       "    </tr>\n",
       "    <tr>\n",
       "      <th>45</th>\n",
       "      <td>53</td>\n",
       "      <td>1</td>\n",
       "    </tr>\n",
       "    <tr>\n",
       "      <th>46</th>\n",
       "      <td>-29</td>\n",
       "      <td>1</td>\n",
       "    </tr>\n",
       "    <tr>\n",
       "      <th>47</th>\n",
       "      <td>-1726</td>\n",
       "      <td>1</td>\n",
       "    </tr>\n",
       "    <tr>\n",
       "      <th>48</th>\n",
       "      <td>65</td>\n",
       "      <td>1</td>\n",
       "    </tr>\n",
       "    <tr>\n",
       "      <th>49</th>\n",
       "      <td>62</td>\n",
       "      <td>1</td>\n",
       "    </tr>\n",
       "    <tr>\n",
       "      <th>50</th>\n",
       "      <td>58</td>\n",
       "      <td>1</td>\n",
       "    </tr>\n",
       "    <tr>\n",
       "      <th>51</th>\n",
       "      <td>329</td>\n",
       "      <td>1</td>\n",
       "    </tr>\n",
       "    <tr>\n",
       "      <th>52</th>\n",
       "      <td>72</td>\n",
       "      <td>1</td>\n",
       "    </tr>\n",
       "  </tbody>\n",
       "</table>\n",
       "</div>"
      ],
      "text/plain": [
       "          index  age\n",
       "0            29   85\n",
       "1            32   82\n",
       "2            26   75\n",
       "3            27   71\n",
       "4            33   70\n",
       "5            28   68\n",
       "6            31   67\n",
       "7            34   65\n",
       "8            30   63\n",
       "9            25   61\n",
       "10           35   55\n",
       "11           23   51\n",
       "12           24   46\n",
       "13           37   43\n",
       "14           38   39\n",
       "15           36   37\n",
       "16           40   33\n",
       "17           39   33\n",
       "18           43   28\n",
       "19           22   21\n",
       "20           41   21\n",
       "21           42   20\n",
       "22           21   16\n",
       "23           45   12\n",
       "24           46   12\n",
       "25           44   11\n",
       "26           19    9\n",
       "27           18    7\n",
       "28           48    6\n",
       "29           50    6\n",
       "30           20    6\n",
       "31           51    5\n",
       "32           49    4\n",
       "33           56    4\n",
       "34           57    3\n",
       "35           54    3\n",
       "36           55    3\n",
       "37           47    2\n",
       "38           60    2\n",
       "39  99999999999    1\n",
       "40            5    1\n",
       "41           -1    1\n",
       "42           11    1\n",
       "43            8    1\n",
       "44           61    1\n",
       "45           53    1\n",
       "46          -29    1\n",
       "47        -1726    1\n",
       "48           65    1\n",
       "49           62    1\n",
       "50           58    1\n",
       "51          329    1\n",
       "52           72    1"
      ]
     },
     "execution_count": 395,
     "metadata": {},
     "output_type": "execute_result"
    }
   ],
   "source": [
    "data['age'].value_counts().reset_index()"
   ]
  },
  {
   "cell_type": "code",
   "execution_count": 396,
   "id": "991e5c64",
   "metadata": {
    "id": "ff771942",
    "outputId": "fa0aebbf-d286-40f2-abf8-16d81fa4f4d9"
   },
   "outputs": [
    {
     "name": "stdout",
     "output_type": "stream",
     "text": [
      "count          1259\n",
      "mean       79428148\n",
      "std     -2147483648\n",
      "min           -1726\n",
      "25%              27\n",
      "50%              31\n",
      "75%              36\n",
      "max     -2147483648\n",
      "Name: age, dtype: int32\n"
     ]
    }
   ],
   "source": [
    "print(data.age.describe().astype(int))"
   ]
  },
  {
   "cell_type": "markdown",
   "id": "75ee6ec6",
   "metadata": {},
   "source": [
    "#### On trouve des valeurs d'âge négatives. De plus, la valeur maximale de l'âge est de 999999, ce qui ne semble clairement pas cohérent et peut-être une erreur de saisie. Nous allons supprimer les valeurs correspondent aux âges inférieurs à 16 et supérieurs à 100."
   ]
  },
  {
   "cell_type": "code",
   "execution_count": 397,
   "id": "eb180dc1",
   "metadata": {
    "id": "eb180dc1",
    "outputId": "4301fca3-cb0f-4aa6-a974-bb0da77fbeb4"
   },
   "outputs": [
    {
     "name": "stdout",
     "output_type": "stream",
     "text": [
      "count    1251\n",
      "mean       32\n",
      "std         7\n",
      "min        18\n",
      "25%        27\n",
      "50%        31\n",
      "75%        36\n",
      "max        72\n",
      "Name: age, dtype: int32\n"
     ]
    }
   ],
   "source": [
    "data = data[(data.age >= 16) & (data.age <= 75)]\n",
    "print(data.age.describe().astype(int))"
   ]
  },
  {
   "cell_type": "code",
   "execution_count": 398,
   "id": "b9328a91",
   "metadata": {
    "id": "b9328a91",
    "outputId": "99cc143a-f2aa-45f1-b3d3-f669052dfe30"
   },
   "outputs": [
    {
     "data": {
      "text/plain": [
       "<AxesSubplot:>"
      ]
     },
     "execution_count": 398,
     "metadata": {},
     "output_type": "execute_result"
    },
    {
     "data": {
      "image/png": "[encoded data removed]",
      "text/plain": [
       "<Figure size 432x288 with 1 Axes>"
      ]
     },
     "metadata": {
      "needs_background": "light"
     },
     "output_type": "display_data"
    }
   ],
   "source": [
    "data['age'].hist()"
   ]
  },
  {
   "cell_type": "code",
   "execution_count": 399,
   "id": "2cbdf6e4",
   "metadata": {
    "id": "2cbdf6e4",
    "outputId": "a8d7400e-8747-46d8-ce41-263c36707859"
   },
   "outputs": [
    {
     "name": "stdout",
     "output_type": "stream",
     "text": [
      "Range of column age (after) : (18, 72)\n"
     ]
    }
   ],
   "source": [
    "print('Range of column age (after) :'  , (data.age.min(), data.age.max()))"
   ]
  },
  {
   "cell_type": "markdown",
   "id": "f1d67aa7",
   "metadata": {
    "id": "f1d67aa7"
   },
   "source": [
    "###  Analyse de la variable \"gender\":"
   ]
  },
  {
   "cell_type": "code",
   "execution_count": 400,
   "id": "1dfb9cf9",
   "metadata": {
    "id": "1dfb9cf9",
    "outputId": "1e0751ae-e6e3-4db3-da34-51127ee75d65"
   },
   "outputs": [
    {
     "data": {
      "text/plain": [
       "Male                                              612\n",
       "male                                              204\n",
       "Female                                            121\n",
       "M                                                 116\n",
       "female                                             62\n",
       "F                                                  38\n",
       "m                                                  34\n",
       "f                                                  15\n",
       "Make                                                4\n",
       "Woman                                               3\n",
       "Male                                                3\n",
       "Female                                              2\n",
       "Cis Male                                            2\n",
       "Man                                                 2\n",
       "Female (trans)                                      2\n",
       "Malr                                                1\n",
       "Trans woman                                         1\n",
       "male leaning androgynous                            1\n",
       "Cis Man                                             1\n",
       "Neuter                                              1\n",
       "msle                                                1\n",
       "cis male                                            1\n",
       "queer                                               1\n",
       "Female (cis)                                        1\n",
       "cis-female/femme                                    1\n",
       "Mail                                                1\n",
       "femail                                              1\n",
       "Guy (-ish) ^_^                                      1\n",
       "Enby                                                1\n",
       "Agender                                             1\n",
       "Male (CIS)                                          1\n",
       "Male-ish                                            1\n",
       "maile                                               1\n",
       "Trans-female                                        1\n",
       "Cis Female                                          1\n",
       "something kinda male?                               1\n",
       "Mal                                                 1\n",
       "queer/she/they                                      1\n",
       "Androgyne                                           1\n",
       "non-binary                                          1\n",
       "Femake                                              1\n",
       "woman                                               1\n",
       "Nah                                                 1\n",
       "fluid                                               1\n",
       "Genderqueer                                         1\n",
       "ostensibly male, unsure what that really means      1\n",
       "Name: gender, dtype: int64"
      ]
     },
     "execution_count": 400,
     "metadata": {},
     "output_type": "execute_result"
    }
   ],
   "source": [
    "data['gender'].value_counts()"
   ]
  },
  {
   "cell_type": "code",
   "execution_count": 401,
   "id": "35bb0f5d",
   "metadata": {
    "id": "35bb0f5d",
    "outputId": "f045dd4c-bc3f-4136-8bf7-98388f6bef09"
   },
   "outputs": [
    {
     "data": {
      "text/plain": [
       "array(['Female', 'M', 'Male', 'male', 'female', 'm', 'Male-ish', 'maile',\n",
       "       'Trans-female', 'Cis Female', 'F', 'something kinda male?',\n",
       "       'Cis Male', 'Woman', 'f', 'Mal', 'Male (CIS)', 'queer/she/they',\n",
       "       'non-binary', 'Femake', 'woman', 'Make', 'Nah', 'Enby', 'fluid',\n",
       "       'Genderqueer', 'Female ', 'Androgyne', 'Agender',\n",
       "       'cis-female/femme', 'Guy (-ish) ^_^', 'male leaning androgynous',\n",
       "       'Male ', 'Man', 'Trans woman', 'msle', 'Neuter', 'Female (trans)',\n",
       "       'queer', 'Female (cis)', 'Mail', 'cis male', 'Malr', 'femail',\n",
       "       'Cis Man', 'ostensibly male, unsure what that really means'],\n",
       "      dtype=object)"
      ]
     },
     "execution_count": 401,
     "metadata": {},
     "output_type": "execute_result"
    }
   ],
   "source": [
    "data['gender'].unique()"
   ]
  },
  {
   "cell_type": "markdown",
   "id": "66739bb0",
   "metadata": {
    "id": "66739bb0"
   },
   "source": [
    "#### La colonne \"Gender\" contient 49 réponses distinctes. Nous allons renommer et regrouper les réponses qui ont la même signification. Ainsi, nous allons les séparer en les catégories suivantes :\n",
    "#### - Male : né en tant qu'homme et s'identifie en tant qu'homme.\n",
    "#### - Female : née en tant que femme et s'identifie en tant que femme.\n",
    "#### - Other: Queer, lesbienne, gay, bisexuel(le) et personnes transgenres vont être regroupés sous le terme \"Other\".\n"
   ]
  },
  {
   "cell_type": "code",
   "execution_count": 402,
   "id": "94bb6ea5",
   "metadata": {
    "id": "94bb6ea5",
    "outputId": "1383d7e4-59e0-4046-a988-09fbcc5a185b"
   },
   "outputs": [
    {
     "name": "stderr",
     "output_type": "stream",
     "text": [
      "C:\\Users\\admin\\AppData\\Local\\Temp\\ipykernel_14412\\795833617.py:1: SettingWithCopyWarning: \n",
      "A value is trying to be set on a copy of a slice from a DataFrame\n",
      "\n",
      "See the caveats in the documentation: https://pandas.pydata.org/pandas-docs/stable/user_guide/indexing.html#returning-a-view-versus-a-copy\n",
      "  data['gender'].replace(['Male ', 'male', 'M', 'm', 'Male', 'Cis Male',\n",
      "C:\\Users\\admin\\AppData\\Local\\Temp\\ipykernel_14412\\795833617.py:4: SettingWithCopyWarning: \n",
      "A value is trying to be set on a copy of a slice from a DataFrame\n",
      "\n",
      "See the caveats in the documentation: https://pandas.pydata.org/pandas-docs/stable/user_guide/indexing.html#returning-a-view-versus-a-copy\n",
      "  data['gender'].replace(['Female ', 'female', 'F', 'f', 'Woman', 'Female',\n",
      "C:\\Users\\admin\\AppData\\Local\\Temp\\ipykernel_14412\\795833617.py:8: SettingWithCopyWarning: \n",
      "A value is trying to be set on a copy of a slice from a DataFrame\n",
      "\n",
      "See the caveats in the documentation: https://pandas.pydata.org/pandas-docs/stable/user_guide/indexing.html#returning-a-view-versus-a-copy\n",
      "  data['gender'].replace(['Female (trans)', 'queer/she/they', 'non-binary',\n"
     ]
    }
   ],
   "source": [
    "data['gender'].replace(['Male ', 'male', 'M', 'm', 'Male', 'Cis Male',\n",
    "                     'Man', 'cis male', 'Mail', 'Male-ish', 'Male (CIS)',\n",
    "                      'Cis Man', 'msle', 'Malr', 'Mal', 'maile', 'Make',], 'Male', inplace = True)\n",
    "data['gender'].replace(['Female ', 'female', 'F', 'f', 'Woman', 'Female',\n",
    "                     'femail', 'Cis Female', 'cis-female/femme', 'Femake', 'Female (cis)',\n",
    "                     'woman',], 'Female', inplace = True)\n",
    "\n",
    "data['gender'].replace(['Female (trans)', 'queer/she/they', 'non-binary',\n",
    "                     'fluid', 'queer', 'Androgyne', 'Trans-female', 'male leaning androgynous',\n",
    "                      'Agender', 'A little about you', 'Nah', 'All',\n",
    "                      'ostensibly male, unsure what that really means',\n",
    "                      'Genderqueer', 'Enby', 'p', 'Neuter', 'something kinda male?',\n",
    "                      'Guy (-ish) ^_^', 'Trans woman',], 'Other', inplace = True)"
   ]
  },
  {
   "cell_type": "code",
   "execution_count": 403,
   "id": "93cc0f0f",
   "metadata": {
    "id": "93cc0f0f",
    "outputId": "1e464583-50f5-4b88-93fd-3fc13d53c0a1"
   },
   "outputs": [
    {
     "data": {
      "text/plain": [
       "Male      986\n",
       "Female    247\n",
       "Other      18\n",
       "Name: gender, dtype: int64"
      ]
     },
     "execution_count": 403,
     "metadata": {},
     "output_type": "execute_result"
    }
   ],
   "source": [
    "data['gender'].value_counts()"
   ]
  },
  {
   "cell_type": "markdown",
   "id": "79881291",
   "metadata": {
    "id": "79881291"
   },
   "source": [
    "### Analyse de la variable employee_numbers:"
   ]
  },
  {
   "cell_type": "code",
   "execution_count": 404,
   "id": "dce95900",
   "metadata": {},
   "outputs": [
    {
     "data": {
      "text/plain": [
       "array(['Jun-25', 'More than 1000', '26-100', '100-500', '01-May',\n",
       "       '500-1000'], dtype=object)"
      ]
     },
     "execution_count": 404,
     "metadata": {},
     "output_type": "execute_result"
    }
   ],
   "source": [
    "data.employee_numbers.unique()"
   ]
  },
  {
   "cell_type": "code",
   "execution_count": 405,
   "id": "52907f7b",
   "metadata": {
    "id": "52907f7b",
    "outputId": "10f3d854-f3d4-43cd-c9bd-046bc54b7a47"
   },
   "outputs": [
    {
     "name": "stderr",
     "output_type": "stream",
     "text": [
      "C:\\Users\\admin\\AppData\\Local\\Temp\\ipykernel_14412\\1165939560.py:1: SettingWithCopyWarning: \n",
      "A value is trying to be set on a copy of a slice from a DataFrame\n",
      "\n",
      "See the caveats in the documentation: https://pandas.pydata.org/pandas-docs/stable/user_guide/indexing.html#returning-a-view-versus-a-copy\n",
      "  data['employee_numbers'].replace(['Jun-25'], '6-25', inplace = True)\n",
      "C:\\Users\\admin\\AppData\\Local\\Temp\\ipykernel_14412\\1165939560.py:2: SettingWithCopyWarning: \n",
      "A value is trying to be set on a copy of a slice from a DataFrame\n",
      "\n",
      "See the caveats in the documentation: https://pandas.pydata.org/pandas-docs/stable/user_guide/indexing.html#returning-a-view-versus-a-copy\n",
      "  data['employee_numbers'].replace(['5-Jan'], '1-5', inplace = True)\n",
      "C:\\Users\\admin\\AppData\\Local\\Temp\\ipykernel_14412\\1165939560.py:3: SettingWithCopyWarning: \n",
      "A value is trying to be set on a copy of a slice from a DataFrame\n",
      "\n",
      "See the caveats in the documentation: https://pandas.pydata.org/pandas-docs/stable/user_guide/indexing.html#returning-a-view-versus-a-copy\n",
      "  data['employee_numbers'].replace(['01-May'], '1-5', inplace = True)\n"
     ]
    }
   ],
   "source": [
    "data['employee_numbers'].replace(['Jun-25'], '6-25', inplace = True)\n",
    "data['employee_numbers'].replace(['5-Jan'], '1-5', inplace = True)\n",
    "data['employee_numbers'].replace(['01-May'], '1-5', inplace = True)"
   ]
  },
  {
   "cell_type": "code",
   "execution_count": 406,
   "id": "56a652ff",
   "metadata": {
    "id": "56a652ff",
    "outputId": "ab104da6-d1c6-4e32-d651-2928d765d455"
   },
   "outputs": [
    {
     "data": {
      "text/plain": [
       "array(['6-25', 'More than 1000', '26-100', '100-500', '1-5', '500-1000'],\n",
       "      dtype=object)"
      ]
     },
     "execution_count": 406,
     "metadata": {},
     "output_type": "execute_result"
    }
   ],
   "source": [
    "data['employee_numbers'].unique()"
   ]
  },
  {
   "cell_type": "markdown",
   "id": "2907341c",
   "metadata": {
    "id": "2907341c"
   },
   "source": [
    "## 2. Data Encoding"
   ]
  },
  {
   "cell_type": "markdown",
   "id": "8ed35e90",
   "metadata": {
    "id": "8ed35e90"
   },
   "source": [
    "#### Toutes les colonnes, à l'exception de l'âge, sont catégoriques. Nous utiliserons l'encodage par étiquette (label encoding) pour le target \"treatment\". Pour les autres colonnes, nous utiliserons l'encodeur ordinal (ordinal encoder) afin de capturer la relation entre les catégories."
   ]
  },
  {
   "cell_type": "markdown",
   "id": "b12de277",
   "metadata": {
    "id": "b12de277"
   },
   "source": [
    "### Target encoding : treatment"
   ]
  },
  {
   "cell_type": "code",
   "execution_count": 407,
   "id": "ca370d5c",
   "metadata": {},
   "outputs": [
    {
     "name": "stderr",
     "output_type": "stream",
     "text": [
      "C:\\Users\\admin\\AppData\\Local\\Temp\\ipykernel_14412\\4049900141.py:3: SettingWithCopyWarning: \n",
      "A value is trying to be set on a copy of a slice from a DataFrame.\n",
      "Try using .loc[row_indexer,col_indexer] = value instead\n",
      "\n",
      "See the caveats in the documentation: https://pandas.pydata.org/pandas-docs/stable/user_guide/indexing.html#returning-a-view-versus-a-copy\n",
      "  data.treatment = lb_encoder.fit_transform(data.treatment)\n"
     ]
    }
   ],
   "source": [
    "from sklearn.preprocessing import LabelEncoder\n",
    "lb_encoder = LabelEncoder()\n",
    "data.treatment = lb_encoder.fit_transform(data.treatment)"
   ]
  },
  {
   "cell_type": "markdown",
   "id": "6203df22",
   "metadata": {
    "id": "6203df22"
   },
   "source": [
    "###### 0 : No Treatment\n",
    "###### 1 : Get Treatment"
   ]
  },
  {
   "cell_type": "markdown",
   "id": "e0efef27",
   "metadata": {
    "id": "e0efef27"
   },
   "source": [
    "### Features Encoding"
   ]
  },
  {
   "cell_type": "code",
   "execution_count": 408,
   "id": "023f97bf",
   "metadata": {
    "id": "023f97bf",
    "outputId": "621c4176-4a9b-41db-fc6c-dc9b6a6c5bd0"
   },
   "outputs": [
    {
     "name": "stderr",
     "output_type": "stream",
     "text": [
      "C:\\Users\\admin\\AppData\\Local\\Temp\\ipykernel_14412\\104260618.py:30: SettingWithCopyWarning: \n",
      "A value is trying to be set on a copy of a slice from a DataFrame.\n",
      "Try using .loc[row_indexer,col_indexer] = value instead\n",
      "\n",
      "See the caveats in the documentation: https://pandas.pydata.org/pandas-docs/stable/user_guide/indexing.html#returning-a-view-versus-a-copy\n",
      "  data[cat_cols] = ordinal_encoder.fit_transform(data[cat_cols])\n"
     ]
    }
   ],
   "source": [
    "gender=['Female','Male','Other']\n",
    "self_employed_cols = ['No','Yes']\n",
    "family_history_cols = ['No','Yes']\n",
    "work_interfere_cols = ['Never','Rarely',\"Don't know\",'Sometimes','Often']\n",
    "no_employees_cols = ['1-5','6-25','26-100','100-500','500-1000','More than 1000']\n",
    "remote_work_cols = ['No','Yes']\n",
    "tech_company_cols = ['No','Yes']\n",
    "benefits_cols = ['No','Don\\'t know','Yes'] \n",
    "care_options_cols = ['No','Not sure','Yes']\n",
    "wellness_program_cols  =['No','Don\\'t know','Yes']\n",
    "seek_help_cols = ['No','Don\\'t know','Yes']\n",
    "anonymity_cols = ['No','Don\\'t know','Yes']\n",
    "leave_cols = [ 'Very easy', 'Somewhat easy',\"Don't know\" ,'Somewhat difficult','Very difficult']\n",
    "mental_health_consequence_cols = ['No','Maybe','Yes']\n",
    "phys_health_consequence_cols = ['No','Maybe','Yes']\n",
    "coworkers_col = ['No','Some of them','Yes']\n",
    "supervisor_cols = ['No','Some of them','Yes']\n",
    "mental_health_interview_cols = ['No','Maybe','Yes']\n",
    "phys_health_interview_cols = ['No','Maybe','Yes']\n",
    "mental_vs_physical_cols = [\"Don't know\",'No','Yes']\n",
    "obs_consequence_cols = ['No','Yes']\n",
    "\n",
    "ordinal_encoder = OrdinalEncoder(categories=[gender,self_employed_cols,family_history_cols,work_interfere_cols,no_employees_cols,remote_work_cols,\n",
    "                            tech_company_cols,benefits_cols,care_options_cols,wellness_program_cols,seek_help_cols,anonymity_cols,leave_cols,\n",
    "                            mental_health_consequence_cols,phys_health_consequence_cols,coworkers_col,supervisor_cols,mental_health_interview_cols,\n",
    "                            phys_health_interview_cols,mental_vs_physical_cols,obs_consequence_cols])\n",
    "cat_cols = ['gender','self_employed', 'family_history', 'work_interfere', 'employee_numbers', 'remote_work', 'tech_company', 'benefits', 'care_options', 'wellness_program', 'seek_help', 'anonymity', 'medical_leave', 'mental_health_consequence', 'phys_health_consequence', 'coworkers', 'supervisor', 'mental_health_interview', 'phys_health_interview', 'mental_vs_physical', 'obs_consequence']\n",
    "\n",
    "# Fit and transform the categorical columns in the X_train dataframe\n",
    "data[cat_cols] = ordinal_encoder.fit_transform(data[cat_cols])"
   ]
  },
  {
   "cell_type": "code",
   "execution_count": 409,
   "id": "b22f51eb",
   "metadata": {
    "id": "b22f51eb",
    "outputId": "9363dc24-6319-4124-ee72-5bfac25450c1"
   },
   "outputs": [
    {
     "data": {
      "text/html": [
       "<div>\n",
       "<style scoped>\n",
       "    .dataframe tbody tr th:only-of-type {\n",
       "        vertical-align: middle;\n",
       "    }\n",
       "\n",
       "    .dataframe tbody tr th {\n",
       "        vertical-align: top;\n",
       "    }\n",
       "\n",
       "    .dataframe thead th {\n",
       "        text-align: right;\n",
       "    }\n",
       "</style>\n",
       "<table border=\"1\" class=\"dataframe\">\n",
       "  <thead>\n",
       "    <tr style=\"text-align: right;\">\n",
       "      <th></th>\n",
       "      <th>age</th>\n",
       "      <th>gender</th>\n",
       "      <th>self_employed</th>\n",
       "      <th>family_history</th>\n",
       "      <th>treatment</th>\n",
       "      <th>work_interfere</th>\n",
       "      <th>employee_numbers</th>\n",
       "      <th>remote_work</th>\n",
       "      <th>tech_company</th>\n",
       "      <th>benefits</th>\n",
       "      <th>...</th>\n",
       "      <th>anonymity</th>\n",
       "      <th>medical_leave</th>\n",
       "      <th>mental_health_consequence</th>\n",
       "      <th>phys_health_consequence</th>\n",
       "      <th>coworkers</th>\n",
       "      <th>supervisor</th>\n",
       "      <th>mental_health_interview</th>\n",
       "      <th>phys_health_interview</th>\n",
       "      <th>mental_vs_physical</th>\n",
       "      <th>obs_consequence</th>\n",
       "    </tr>\n",
       "  </thead>\n",
       "  <tbody>\n",
       "    <tr>\n",
       "      <th>0</th>\n",
       "      <td>37</td>\n",
       "      <td>0.0</td>\n",
       "      <td>0.0</td>\n",
       "      <td>0.0</td>\n",
       "      <td>1</td>\n",
       "      <td>4.0</td>\n",
       "      <td>1.0</td>\n",
       "      <td>0.0</td>\n",
       "      <td>1.0</td>\n",
       "      <td>2.0</td>\n",
       "      <td>...</td>\n",
       "      <td>2.0</td>\n",
       "      <td>1.0</td>\n",
       "      <td>0.0</td>\n",
       "      <td>0.0</td>\n",
       "      <td>1.0</td>\n",
       "      <td>2.0</td>\n",
       "      <td>0.0</td>\n",
       "      <td>1.0</td>\n",
       "      <td>2.0</td>\n",
       "      <td>0.0</td>\n",
       "    </tr>\n",
       "    <tr>\n",
       "      <th>1</th>\n",
       "      <td>44</td>\n",
       "      <td>1.0</td>\n",
       "      <td>0.0</td>\n",
       "      <td>0.0</td>\n",
       "      <td>0</td>\n",
       "      <td>1.0</td>\n",
       "      <td>5.0</td>\n",
       "      <td>0.0</td>\n",
       "      <td>0.0</td>\n",
       "      <td>1.0</td>\n",
       "      <td>...</td>\n",
       "      <td>1.0</td>\n",
       "      <td>2.0</td>\n",
       "      <td>1.0</td>\n",
       "      <td>0.0</td>\n",
       "      <td>0.0</td>\n",
       "      <td>0.0</td>\n",
       "      <td>0.0</td>\n",
       "      <td>0.0</td>\n",
       "      <td>0.0</td>\n",
       "      <td>0.0</td>\n",
       "    </tr>\n",
       "  </tbody>\n",
       "</table>\n",
       "<p>2 rows × 23 columns</p>\n",
       "</div>"
      ],
      "text/plain": [
       "   age  gender  self_employed  family_history  treatment  work_interfere  \\\n",
       "0   37     0.0            0.0             0.0          1             4.0   \n",
       "1   44     1.0            0.0             0.0          0             1.0   \n",
       "\n",
       "   employee_numbers  remote_work  tech_company  benefits  ...  anonymity  \\\n",
       "0               1.0          0.0           1.0       2.0  ...        2.0   \n",
       "1               5.0          0.0           0.0       1.0  ...        1.0   \n",
       "\n",
       "   medical_leave  mental_health_consequence  phys_health_consequence  \\\n",
       "0            1.0                        0.0                      0.0   \n",
       "1            2.0                        1.0                      0.0   \n",
       "\n",
       "   coworkers  supervisor  mental_health_interview  phys_health_interview  \\\n",
       "0        1.0         2.0                      0.0                    1.0   \n",
       "1        0.0         0.0                      0.0                    0.0   \n",
       "\n",
       "   mental_vs_physical  obs_consequence  \n",
       "0                 2.0              0.0  \n",
       "1                 0.0              0.0  \n",
       "\n",
       "[2 rows x 23 columns]"
      ]
     },
     "execution_count": 409,
     "metadata": {},
     "output_type": "execute_result"
    }
   ],
   "source": [
    "data.head(2)"
   ]
  },
  {
   "cell_type": "markdown",
   "id": "a5177598",
   "metadata": {
    "id": "a5177598"
   },
   "source": [
    "### Feature Scaling \n",
    "\n",
    "#### Nous allons faire le scaling de l'âge car il diffère considérablement des autres variables."
   ]
  },
  {
   "cell_type": "code",
   "execution_count": 410,
   "id": "35d40d4b",
   "metadata": {
    "id": "35d40d4b",
    "outputId": "6827ee6c-300a-4fa8-c1ce-ef41cb15c8ec"
   },
   "outputs": [
    {
     "name": "stderr",
     "output_type": "stream",
     "text": [
      "C:\\Users\\admin\\AppData\\Local\\Temp\\ipykernel_14412\\1701955540.py:2: SettingWithCopyWarning: \n",
      "A value is trying to be set on a copy of a slice from a DataFrame.\n",
      "Try using .loc[row_indexer,col_indexer] = value instead\n",
      "\n",
      "See the caveats in the documentation: https://pandas.pydata.org/pandas-docs/stable/user_guide/indexing.html#returning-a-view-versus-a-copy\n",
      "  data['age'] = scaler.fit_transform(data[['age']])\n"
     ]
    },
    {
     "data": {
      "text/html": [
       "<div>\n",
       "<style scoped>\n",
       "    .dataframe tbody tr th:only-of-type {\n",
       "        vertical-align: middle;\n",
       "    }\n",
       "\n",
       "    .dataframe tbody tr th {\n",
       "        vertical-align: top;\n",
       "    }\n",
       "\n",
       "    .dataframe thead th {\n",
       "        text-align: right;\n",
       "    }\n",
       "</style>\n",
       "<table border=\"1\" class=\"dataframe\">\n",
       "  <thead>\n",
       "    <tr style=\"text-align: right;\">\n",
       "      <th></th>\n",
       "      <th>age</th>\n",
       "      <th>gender</th>\n",
       "      <th>self_employed</th>\n",
       "      <th>family_history</th>\n",
       "      <th>treatment</th>\n",
       "      <th>work_interfere</th>\n",
       "      <th>employee_numbers</th>\n",
       "      <th>remote_work</th>\n",
       "      <th>tech_company</th>\n",
       "      <th>benefits</th>\n",
       "      <th>...</th>\n",
       "      <th>anonymity</th>\n",
       "      <th>medical_leave</th>\n",
       "      <th>mental_health_consequence</th>\n",
       "      <th>phys_health_consequence</th>\n",
       "      <th>coworkers</th>\n",
       "      <th>supervisor</th>\n",
       "      <th>mental_health_interview</th>\n",
       "      <th>phys_health_interview</th>\n",
       "      <th>mental_vs_physical</th>\n",
       "      <th>obs_consequence</th>\n",
       "    </tr>\n",
       "  </thead>\n",
       "  <tbody>\n",
       "    <tr>\n",
       "      <th>0</th>\n",
       "      <td>0.351852</td>\n",
       "      <td>0.0</td>\n",
       "      <td>0.0</td>\n",
       "      <td>0.0</td>\n",
       "      <td>1</td>\n",
       "      <td>4.0</td>\n",
       "      <td>1.0</td>\n",
       "      <td>0.0</td>\n",
       "      <td>1.0</td>\n",
       "      <td>2.0</td>\n",
       "      <td>...</td>\n",
       "      <td>2.0</td>\n",
       "      <td>1.0</td>\n",
       "      <td>0.0</td>\n",
       "      <td>0.0</td>\n",
       "      <td>1.0</td>\n",
       "      <td>2.0</td>\n",
       "      <td>0.0</td>\n",
       "      <td>1.0</td>\n",
       "      <td>2.0</td>\n",
       "      <td>0.0</td>\n",
       "    </tr>\n",
       "    <tr>\n",
       "      <th>1</th>\n",
       "      <td>0.481481</td>\n",
       "      <td>1.0</td>\n",
       "      <td>0.0</td>\n",
       "      <td>0.0</td>\n",
       "      <td>0</td>\n",
       "      <td>1.0</td>\n",
       "      <td>5.0</td>\n",
       "      <td>0.0</td>\n",
       "      <td>0.0</td>\n",
       "      <td>1.0</td>\n",
       "      <td>...</td>\n",
       "      <td>1.0</td>\n",
       "      <td>2.0</td>\n",
       "      <td>1.0</td>\n",
       "      <td>0.0</td>\n",
       "      <td>0.0</td>\n",
       "      <td>0.0</td>\n",
       "      <td>0.0</td>\n",
       "      <td>0.0</td>\n",
       "      <td>0.0</td>\n",
       "      <td>0.0</td>\n",
       "    </tr>\n",
       "    <tr>\n",
       "      <th>2</th>\n",
       "      <td>0.259259</td>\n",
       "      <td>1.0</td>\n",
       "      <td>0.0</td>\n",
       "      <td>0.0</td>\n",
       "      <td>0</td>\n",
       "      <td>1.0</td>\n",
       "      <td>1.0</td>\n",
       "      <td>0.0</td>\n",
       "      <td>1.0</td>\n",
       "      <td>0.0</td>\n",
       "      <td>...</td>\n",
       "      <td>1.0</td>\n",
       "      <td>3.0</td>\n",
       "      <td>0.0</td>\n",
       "      <td>0.0</td>\n",
       "      <td>2.0</td>\n",
       "      <td>2.0</td>\n",
       "      <td>2.0</td>\n",
       "      <td>2.0</td>\n",
       "      <td>1.0</td>\n",
       "      <td>0.0</td>\n",
       "    </tr>\n",
       "    <tr>\n",
       "      <th>3</th>\n",
       "      <td>0.240741</td>\n",
       "      <td>1.0</td>\n",
       "      <td>0.0</td>\n",
       "      <td>1.0</td>\n",
       "      <td>1</td>\n",
       "      <td>4.0</td>\n",
       "      <td>2.0</td>\n",
       "      <td>0.0</td>\n",
       "      <td>1.0</td>\n",
       "      <td>0.0</td>\n",
       "      <td>...</td>\n",
       "      <td>0.0</td>\n",
       "      <td>3.0</td>\n",
       "      <td>2.0</td>\n",
       "      <td>2.0</td>\n",
       "      <td>1.0</td>\n",
       "      <td>0.0</td>\n",
       "      <td>1.0</td>\n",
       "      <td>1.0</td>\n",
       "      <td>1.0</td>\n",
       "      <td>1.0</td>\n",
       "    </tr>\n",
       "    <tr>\n",
       "      <th>4</th>\n",
       "      <td>0.240741</td>\n",
       "      <td>1.0</td>\n",
       "      <td>0.0</td>\n",
       "      <td>0.0</td>\n",
       "      <td>0</td>\n",
       "      <td>0.0</td>\n",
       "      <td>3.0</td>\n",
       "      <td>1.0</td>\n",
       "      <td>1.0</td>\n",
       "      <td>2.0</td>\n",
       "      <td>...</td>\n",
       "      <td>1.0</td>\n",
       "      <td>2.0</td>\n",
       "      <td>0.0</td>\n",
       "      <td>0.0</td>\n",
       "      <td>1.0</td>\n",
       "      <td>2.0</td>\n",
       "      <td>2.0</td>\n",
       "      <td>2.0</td>\n",
       "      <td>0.0</td>\n",
       "      <td>0.0</td>\n",
       "    </tr>\n",
       "  </tbody>\n",
       "</table>\n",
       "<p>5 rows × 23 columns</p>\n",
       "</div>"
      ],
      "text/plain": [
       "        age  gender  self_employed  family_history  treatment  work_interfere  \\\n",
       "0  0.351852     0.0            0.0             0.0          1             4.0   \n",
       "1  0.481481     1.0            0.0             0.0          0             1.0   \n",
       "2  0.259259     1.0            0.0             0.0          0             1.0   \n",
       "3  0.240741     1.0            0.0             1.0          1             4.0   \n",
       "4  0.240741     1.0            0.0             0.0          0             0.0   \n",
       "\n",
       "   employee_numbers  remote_work  tech_company  benefits  ...  anonymity  \\\n",
       "0               1.0          0.0           1.0       2.0  ...        2.0   \n",
       "1               5.0          0.0           0.0       1.0  ...        1.0   \n",
       "2               1.0          0.0           1.0       0.0  ...        1.0   \n",
       "3               2.0          0.0           1.0       0.0  ...        0.0   \n",
       "4               3.0          1.0           1.0       2.0  ...        1.0   \n",
       "\n",
       "   medical_leave  mental_health_consequence  phys_health_consequence  \\\n",
       "0            1.0                        0.0                      0.0   \n",
       "1            2.0                        1.0                      0.0   \n",
       "2            3.0                        0.0                      0.0   \n",
       "3            3.0                        2.0                      2.0   \n",
       "4            2.0                        0.0                      0.0   \n",
       "\n",
       "   coworkers  supervisor  mental_health_interview  phys_health_interview  \\\n",
       "0        1.0         2.0                      0.0                    1.0   \n",
       "1        0.0         0.0                      0.0                    0.0   \n",
       "2        2.0         2.0                      2.0                    2.0   \n",
       "3        1.0         0.0                      1.0                    1.0   \n",
       "4        1.0         2.0                      2.0                    2.0   \n",
       "\n",
       "   mental_vs_physical  obs_consequence  \n",
       "0                 2.0              0.0  \n",
       "1                 0.0              0.0  \n",
       "2                 1.0              0.0  \n",
       "3                 1.0              1.0  \n",
       "4                 0.0              0.0  \n",
       "\n",
       "[5 rows x 23 columns]"
      ]
     },
     "execution_count": 410,
     "metadata": {},
     "output_type": "execute_result"
    }
   ],
   "source": [
    "scaler = MinMaxScaler()\n",
    "data['age'] = scaler.fit_transform(data[['age']])\n",
    "data.head()"
   ]
  },
  {
   "cell_type": "markdown",
   "id": "0d7eafcd",
   "metadata": {
    "id": "0d7eafcd"
   },
   "source": [
    "## Matrice de correlation"
   ]
  },
  {
   "cell_type": "code",
   "execution_count": 411,
   "id": "17529c22",
   "metadata": {},
   "outputs": [],
   "source": [
    "import matplotlib.pyplot as plt\n",
    "import seaborn as sns"
   ]
  },
  {
   "cell_type": "code",
   "execution_count": 412,
   "id": "e700ffe5",
   "metadata": {
    "id": "e700ffe5",
    "outputId": "e8cca30f-97d7-45fe-a145-f4904b6932b0"
   },
   "outputs": [
    {
     "name": "stderr",
     "output_type": "stream",
     "text": [
      "C:\\Users\\admin\\AppData\\Local\\Temp\\ipykernel_14412\\995003781.py:2: DeprecationWarning: `np.bool` is a deprecated alias for the builtin `bool`. To silence this warning, use `bool` by itself. Doing this will not modify any behavior and is safe. If you specifically wanted the numpy scalar type, use `np.bool_` here.\n",
      "Deprecated in NumPy 1.20; for more details and guidance: https://numpy.org/devdocs/release/1.20.0-notes.html#deprecations\n",
      "  mask = np.zeros_like(corr, dtype=np.bool)\n"
     ]
    },
    {
     "data": {
      "image/png": "[encoded data removed]",
      "text/plain": [
       "<Figure size 1080x1080 with 2 Axes>"
      ]
     },
     "metadata": {
      "needs_background": "light"
     },
     "output_type": "display_data"
    }
   ],
   "source": [
    "corr = data.corr()\n",
    "mask = np.zeros_like(corr, dtype=np.bool)\n",
    "mask[np.triu_indices_from(mask)] = True\n",
    "f, ax = plt.subplots(figsize=(15, 15))\n",
    "sns.heatmap(corr, mask=mask, cmap=cmap, vmax=.3, center=0,square=True, linewidths=.5, cbar_kws={\"shrink\": .5}, annot = True)\n",
    "plt.show()\n"
   ]
  },
  {
   "cell_type": "code",
   "execution_count": 413,
   "id": "e9bb3c2b",
   "metadata": {
    "id": "e9bb3c2b",
    "outputId": "cbba925e-4d7b-4c7c-b68c-946b12d4dffe"
   },
   "outputs": [
    {
     "data": {
      "image/png": "[encoded data removed]",
      "text/plain": [
       "<Figure size 1800x72 with 2 Axes>"
      ]
     },
     "metadata": {
      "needs_background": "light"
     },
     "output_type": "display_data"
    }
   ],
   "source": [
    "f, ax = plt.subplots(figsize=(25, 1))\n",
    "treatment = corr.sort_values(by=['treatment'], ascending=False).head(1).T\n",
    "treatment = treatment.sort_values(by=['treatment'],ascending=False).T\n",
    "sns.heatmap(treatment, cmap=cmap, annot=True)\n",
    "plt.show()"
   ]
  },
  {
   "cell_type": "markdown",
   "id": "369ab8b9",
   "metadata": {},
   "source": [
    "#### Il y a une forte corrélation entre les variables 'wellness_program', 'seek_help'. \n",
    "#### Pour notre variable cible (traitement), nous observons une forte corrélation avec les variables 'care_options','benefits', 'mental_health_consequences' qui sont tous des variables relies a l'environnement du travail. On observe aussi une forte coorelation avec 'work_interfere' ansi que 'family_history'."
   ]
  },
  {
   "cell_type": "markdown",
   "id": "e18b9b78",
   "metadata": {},
   "source": [
    "# II. Modelisation"
   ]
  },
  {
   "cell_type": "code",
   "execution_count": 414,
   "id": "0d51ee1b",
   "metadata": {},
   "outputs": [],
   "source": [
    "from sklearn.linear_model import LogisticRegression\n",
    "from sklearn.neighbors import KNeighborsClassifier\n",
    "from sklearn.svm import SVC, LinearSVC, NuSVC\n",
    "from sklearn.tree import DecisionTreeClassifier\n",
    "from sklearn.ensemble import RandomForestClassifier, AdaBoostClassifier, GradientBoostingClassifier\n",
    "from sklearn.naive_bayes import GaussianNB\n",
    "from sklearn.discriminant_analysis import LinearDiscriminantAnalysis\n",
    "from sklearn.discriminant_analysis import QuadraticDiscriminantAnalysis\n",
    "\n",
    "from sklearn.metrics import confusion_matrix, plot_confusion_matrix, classification_report\n",
    "from sklearn.metrics import recall_score, accuracy_score,roc_curve, auc\n",
    "from sklearn.model_selection import train_test_split\n",
    "from sklearn.ensemble import RandomForestClassifier\n",
    "from sklearn.neural_network import MLPClassifier\n",
    "\n",
    "from sklearn.model_selection import GridSearchCV"
   ]
  },
  {
   "cell_type": "markdown",
   "id": "0c46dc67",
   "metadata": {
    "id": "0c46dc67"
   },
   "source": [
    "### 1. Division Data en train et test\n",
    "\n"
   ]
  },
  {
   "cell_type": "code",
   "execution_count": 415,
   "id": "8c2c436b",
   "metadata": {
    "id": "8c2c436b"
   },
   "outputs": [],
   "source": [
    "X = data.drop(['treatment'], axis =1)\n",
    "y = data.treatment\n",
    "X_train,X_test,y_train,y_test=train_test_split(X,y,stratify = y,test_size=0.2,random_state=42)\n"
   ]
  },
  {
   "cell_type": "code",
   "execution_count": 416,
   "id": "8cbfc840",
   "metadata": {
    "id": "8cbfc840",
    "outputId": "50841dfc-26a0-4861-a8fd-5272f96916f1"
   },
   "outputs": [
    {
     "data": {
      "text/plain": [
       "age                          43\n",
       "gender                        3\n",
       "self_employed                 2\n",
       "family_history                2\n",
       "work_interfere                5\n",
       "employee_numbers              6\n",
       "remote_work                   2\n",
       "tech_company                  2\n",
       "benefits                      3\n",
       "care_options                  3\n",
       "wellness_program              3\n",
       "seek_help                     3\n",
       "anonymity                     3\n",
       "medical_leave                 5\n",
       "mental_health_consequence     3\n",
       "phys_health_consequence       3\n",
       "coworkers                     3\n",
       "supervisor                    3\n",
       "mental_health_interview       3\n",
       "phys_health_interview         3\n",
       "mental_vs_physical            3\n",
       "obs_consequence               2\n",
       "dtype: int64"
      ]
     },
     "execution_count": 416,
     "metadata": {},
     "output_type": "execute_result"
    }
   ],
   "source": [
    "X_train.nunique()"
   ]
  },
  {
   "cell_type": "code",
   "execution_count": 417,
   "id": "d58cbfc2",
   "metadata": {
    "id": "d58cbfc2",
    "outputId": "64a510ee-c4bc-4817-9579-ab181b399dcd"
   },
   "outputs": [
    {
     "name": "stdout",
     "output_type": "stream",
     "text": [
      "Train_data Dimensions : (1000, 22)\n",
      " Test data dimension : (251, 22)\n"
     ]
    }
   ],
   "source": [
    "print(f'Train_data Dimensions : {X_train.shape}\\n Test data dimension : {X_test.shape}')"
   ]
  },
  {
   "cell_type": "markdown",
   "id": "70e128c2",
   "metadata": {},
   "source": [
    "#### Dans l'apprentissage supervisé, les algorithmes apprennent à partir de données étiquetées. Dans notre cas, nous utilisons une technique de classification pour déterminer quelle classe correspond à \"oui\" et quelle classe correspond à \"non\". nous utilisons trois modèles de base et quatre modèles d'ensemble pour effectuer ces prédictions."
   ]
  },
  {
   "cell_type": "markdown",
   "id": "77652fff",
   "metadata": {},
   "source": [
    "Modèles de base :\n",
    "\n",
    "-Régression logistique\n",
    "\n",
    "-Arbre de décision\n",
    "\n",
    "-K plus proches voisins (knn)\n",
    "\n",
    "-SVM - Support Vector Machines\n"
   ]
  },
  {
   "cell_type": "markdown",
   "id": "71669656",
   "metadata": {},
   "source": [
    "#### Modèles d'ensemble :\n",
    "\n",
    "-Random Forest\n",
    "\n",
    "-Gradient Boosting\n",
    "\n",
    "-Classifieur XGBoost (xgboost)\n",
    "\n",
    "-Aa Boost"
   ]
  },
  {
   "cell_type": "code",
   "execution_count": 418,
   "id": "78e41865",
   "metadata": {},
   "outputs": [],
   "source": [
    "names = [\n",
    "    'Logistic Regression',\n",
    "    'KNN',\n",
    "    'Support Vectors',\n",
    "    'Nu SVC',\n",
    "    'Decision Tree',\n",
    "    'Random Forest',\n",
    "    'AdaBoost',\n",
    "    'Gradient Boosting',\n",
    "    'Naive Bayes',\n",
    "]\n",
    "classifiers = [\n",
    "    LogisticRegression(random_state=42),\n",
    "    KNeighborsClassifier(),\n",
    "    SVC(probability=True, random_state=42),\n",
    "    NuSVC(probability=True, random_state=42),\n",
    "    DecisionTreeClassifier(random_state=42),\n",
    "    RandomForestClassifier(random_state=42),\n",
    "    AdaBoostClassifier(random_state=42),\n",
    "    GradientBoostingClassifier(random_state=42),\n",
    "    GaussianNB(),\n",
    "]"
   ]
  },
  {
   "cell_type": "code",
   "execution_count": 419,
   "id": "5ff8328f",
   "metadata": {},
   "outputs": [],
   "source": [
    "def score_summary(names, classifiers):\n",
    "    '''\n",
    "    Given a list of classiers, this function calculates the accuracy, \n",
    "    ROC_AUC and Recall and returns the values in a dataframe\n",
    "    '''\n",
    "    \n",
    "    cols=[\"Classifier\", \"Accuracy\", \"ROC_AUC\", \"Recall\", \"Precision\", \"F1\"]\n",
    "    data_table = pd.DataFrame(columns=cols)\n",
    "    \n",
    "    for name, clf in zip(names, classifiers):        \n",
    "        clf.fit(X_train, y_train)\n",
    "        \n",
    "        pred = clf.predict(X_test)\n",
    "        accuracy = accuracy_score(y_test, pred)\n",
    "\n",
    "        pred_proba = clf.predict_proba(X_test)[:, 1]\n",
    "        \n",
    "        fpr, tpr, thresholds = roc_curve(y_test, pred_proba)        \n",
    "        roc_auc = auc(fpr, tpr)\n",
    "        \n",
    "        # confusion matric, cm\n",
    "        cm = confusion_matrix(y_test, pred) \n",
    "        \n",
    "        # recall: TP/(TP+FN)\n",
    "        recall = cm[1,1]/(cm[1,1] +cm[1,0])\n",
    "        \n",
    "        # precision: TP/(TP+FP)\n",
    "        precision = cm[1,1]/(cm[1,1] +cm[0,1])\n",
    "        \n",
    "        # F1 score: TP/(TP+FP)\n",
    "        f1 = 2*recall*precision/(recall + precision)\n",
    "\n",
    "        df = pd.DataFrame([[name, accuracy*100, roc_auc, recall, precision, f1]], columns=cols)\n",
    "        data_table = data_table.append(df)     \n",
    "\n",
    "    return(np.round(data_table.reset_index(drop=True), 2))"
   ]
  },
  {
   "cell_type": "code",
   "execution_count": 420,
   "id": "5b96db4f",
   "metadata": {},
   "outputs": [
    {
     "name": "stderr",
     "output_type": "stream",
     "text": [
      "C:\\Users\\admin\\AppData\\Local\\Temp\\ipykernel_14412\\212421710.py:34: FutureWarning: The frame.append method is deprecated and will be removed from pandas in a future version. Use pandas.concat instead.\n",
      "  data_table = data_table.append(df)\n",
      "C:\\Users\\admin\\AppData\\Local\\Temp\\ipykernel_14412\\212421710.py:34: FutureWarning: The frame.append method is deprecated and will be removed from pandas in a future version. Use pandas.concat instead.\n",
      "  data_table = data_table.append(df)\n",
      "C:\\Users\\admin\\AppData\\Local\\Temp\\ipykernel_14412\\212421710.py:34: FutureWarning: The frame.append method is deprecated and will be removed from pandas in a future version. Use pandas.concat instead.\n",
      "  data_table = data_table.append(df)\n",
      "C:\\Users\\admin\\AppData\\Local\\Temp\\ipykernel_14412\\212421710.py:34: FutureWarning: The frame.append method is deprecated and will be removed from pandas in a future version. Use pandas.concat instead.\n",
      "  data_table = data_table.append(df)\n",
      "C:\\Users\\admin\\AppData\\Local\\Temp\\ipykernel_14412\\212421710.py:34: FutureWarning: The frame.append method is deprecated and will be removed from pandas in a future version. Use pandas.concat instead.\n",
      "  data_table = data_table.append(df)\n",
      "C:\\Users\\admin\\AppData\\Local\\Temp\\ipykernel_14412\\212421710.py:34: FutureWarning: The frame.append method is deprecated and will be removed from pandas in a future version. Use pandas.concat instead.\n",
      "  data_table = data_table.append(df)\n",
      "C:\\Users\\admin\\AppData\\Local\\Temp\\ipykernel_14412\\212421710.py:34: FutureWarning: The frame.append method is deprecated and will be removed from pandas in a future version. Use pandas.concat instead.\n",
      "  data_table = data_table.append(df)\n"
     ]
    },
    {
     "name": "stdout",
     "output_type": "stream",
     "text": [
      "            Classifier   Accuracy   ROC_AUC    Recall Precision        F1\n",
      "0  Logistic Regression  78.087649  0.834138  0.748031  0.805085   0.77551\n",
      "1                  KNN  70.916335  0.777908  0.653543  0.741071  0.694561\n",
      "2      Support Vectors  76.095618  0.830391  0.748031  0.772358      0.76\n",
      "3               Nu SVC  76.095618  0.816389  0.755906     0.768  0.761905\n",
      "4        Decision Tree  74.900398  0.749111  0.740157  0.758065  0.749004\n",
      "5        Random Forest    81.2749  0.896019  0.834646   0.80303  0.818533\n",
      "6             AdaBoost  83.665339  0.900178  0.874016  0.816176  0.844106\n",
      "7    Gradient Boosting   82.47012  0.911989  0.858268  0.807407  0.832061\n",
      "8          Naive Bayes  78.486056  0.824041  0.748031  0.811966  0.778689\n"
     ]
    },
    {
     "name": "stderr",
     "output_type": "stream",
     "text": [
      "C:\\Users\\admin\\AppData\\Local\\Temp\\ipykernel_14412\\212421710.py:34: FutureWarning: The frame.append method is deprecated and will be removed from pandas in a future version. Use pandas.concat instead.\n",
      "  data_table = data_table.append(df)\n",
      "C:\\Users\\admin\\AppData\\Local\\Temp\\ipykernel_14412\\212421710.py:34: FutureWarning: The frame.append method is deprecated and will be removed from pandas in a future version. Use pandas.concat instead.\n",
      "  data_table = data_table.append(df)\n"
     ]
    }
   ],
   "source": [
    "results = score_summary(names, classifiers)\n",
    "print(results)"
   ]
  },
  {
   "cell_type": "code",
   "execution_count": 421,
   "id": "00cc015c",
   "metadata": {},
   "outputs": [
    {
     "name": "stderr",
     "output_type": "stream",
     "text": [
      "C:\\Users\\admin\\AppData\\Local\\Temp\\ipykernel_14412\\212421710.py:34: FutureWarning: The frame.append method is deprecated and will be removed from pandas in a future version. Use pandas.concat instead.\n",
      "  data_table = data_table.append(df)\n",
      "C:\\Users\\admin\\AppData\\Local\\Temp\\ipykernel_14412\\212421710.py:34: FutureWarning: The frame.append method is deprecated and will be removed from pandas in a future version. Use pandas.concat instead.\n",
      "  data_table = data_table.append(df)\n",
      "C:\\Users\\admin\\AppData\\Local\\Temp\\ipykernel_14412\\212421710.py:34: FutureWarning: The frame.append method is deprecated and will be removed from pandas in a future version. Use pandas.concat instead.\n",
      "  data_table = data_table.append(df)\n",
      "C:\\Users\\admin\\AppData\\Local\\Temp\\ipykernel_14412\\212421710.py:34: FutureWarning: The frame.append method is deprecated and will be removed from pandas in a future version. Use pandas.concat instead.\n",
      "  data_table = data_table.append(df)\n",
      "C:\\Users\\admin\\AppData\\Local\\Temp\\ipykernel_14412\\212421710.py:34: FutureWarning: The frame.append method is deprecated and will be removed from pandas in a future version. Use pandas.concat instead.\n",
      "  data_table = data_table.append(df)\n",
      "C:\\Users\\admin\\AppData\\Local\\Temp\\ipykernel_14412\\212421710.py:34: FutureWarning: The frame.append method is deprecated and will be removed from pandas in a future version. Use pandas.concat instead.\n",
      "  data_table = data_table.append(df)\n",
      "C:\\Users\\admin\\AppData\\Local\\Temp\\ipykernel_14412\\212421710.py:34: FutureWarning: The frame.append method is deprecated and will be removed from pandas in a future version. Use pandas.concat instead.\n",
      "  data_table = data_table.append(df)\n",
      "C:\\Users\\admin\\AppData\\Local\\Temp\\ipykernel_14412\\212421710.py:34: FutureWarning: The frame.append method is deprecated and will be removed from pandas in a future version. Use pandas.concat instead.\n",
      "  data_table = data_table.append(df)\n",
      "C:\\Users\\admin\\AppData\\Local\\Temp\\ipykernel_14412\\212421710.py:34: FutureWarning: The frame.append method is deprecated and will be removed from pandas in a future version. Use pandas.concat instead.\n",
      "  data_table = data_table.append(df)\n"
     ]
    },
    {
     "data": {
      "text/plain": [
       "<Figure size 720x360 with 0 Axes>"
      ]
     },
     "execution_count": 421,
     "metadata": {},
     "output_type": "execute_result"
    },
    {
     "data": {
      "image/png": "[encoded data removed]",
      "text/plain": [
       "<Figure size 720x360 with 1 Axes>"
      ]
     },
     "metadata": {
      "needs_background": "light"
     },
     "output_type": "display_data"
    },
    {
     "data": {
      "text/plain": [
       "<Figure size 720x360 with 0 Axes>"
      ]
     },
     "metadata": {},
     "output_type": "display_data"
    }
   ],
   "source": [
    "results = score_summary(names, classifiers)\n",
    "results_sorted = results.sort_values(by=\"F1\", ascending=False)\n",
    "# Création du graphique à barres\n",
    "plt.figure(figsize=(10, 5))\n",
    "plt.barh(results_sorted[\"Classifier\"], results_sorted[\"F1\"])\n",
    "plt.xlabel(\"F1\")\n",
    "plt.ylabel(\"Classifier\")\n",
    "plt.title(\"F1 of Different Classifiers\")\n",
    "plt.figure(figsize = (10,5))"
   ]
  },
  {
   "cell_type": "markdown",
   "id": "782b8118",
   "metadata": {
    "id": "e2b7e3ac"
   },
   "source": [
    "#### En analysant les résultats du tableau, on peut remarquer qu'il existe trois modèles ayant obtenu les meilleures performances sur toutes les mesures; AdaBoost, Gradient Boosting et Random Forest. Ce sont des modeles ensemblistes. Ces modèles combinent plusieurs sous-modèles plus faibles pour améliorer la prédiction globale. Ces modèles ensemblistes peuvent être plus performants en raison de la nature complexe et interdépendante des facteurs liés à la santé mentale. Ces modèles peuvent identifier les interactions entre différentes variables et exploiter les informations contenues dans plusieurs sous-modèles pour améliorer la précision des prédictions. Ils peuvent également être plus résistants au bruit et aux erreurs de mesure, ce qui est souvent présent dans les enquêtes sur la santé mentale. "
   ]
  },
  {
   "cell_type": "markdown",
   "id": "609c20eb",
   "metadata": {},
   "source": [
    "#### Nous allons donc choisir ces modèles pour effectuer une recherche de grille afin d'optimiser davantage leurs hyperparamètres et obtenir les meilleures performances possibles."
   ]
  },
  {
   "cell_type": "markdown",
   "id": "83e811d7",
   "metadata": {},
   "source": [
    "### 1. Random Forest GridSearchCV"
   ]
  },
  {
   "cell_type": "code",
   "execution_count": 322,
   "id": "c3c383af",
   "metadata": {},
   "outputs": [],
   "source": [
    "randf=RandomForestClassifier()\n",
    "param_grid_ra = { \n",
    "    'n_estimators': [200,300,500,600],\n",
    "    'max_features': ['auto', 'sqrt'],\n",
    "    'max_depth' : [4,5,6,7,8],\n",
    "    'criterion' :['gini', 'entropy']\n",
    "}"
   ]
  },
  {
   "cell_type": "code",
   "execution_count": 323,
   "id": "8c2c9758",
   "metadata": {},
   "outputs": [
    {
     "data": {
      "text/plain": [
       "GridSearchCV(cv=5, estimator=RandomForestClassifier(),\n",
       "             param_grid={'criterion': ['gini', 'entropy'],\n",
       "                         'max_depth': [4, 5, 6, 7, 8],\n",
       "                         'max_features': ['auto', 'sqrt'],\n",
       "                         'n_estimators': [200, 300, 500, 600]})"
      ]
     },
     "execution_count": 323,
     "metadata": {},
     "output_type": "execute_result"
    }
   ],
   "source": [
    "grid_search_ra = GridSearchCV(randf,param_grid_ra,cv= 5)\n",
    "grid_search_ra.fit(X_train,y_train)"
   ]
  },
  {
   "cell_type": "code",
   "execution_count": 324,
   "id": "64d15158",
   "metadata": {},
   "outputs": [
    {
     "data": {
      "text/plain": [
       "RandomForestClassifier(criterion='entropy', max_depth=7, max_features='sqrt',\n",
       "                       n_estimators=300)"
      ]
     },
     "execution_count": 324,
     "metadata": {},
     "output_type": "execute_result"
    }
   ],
   "source": [
    "grid_search_ra.best_params_\n",
    "model_final_ranf=grid_search_ra.best_estimator_\n",
    "model_final_ranf.fit(X_train,y_train)"
   ]
  },
  {
   "cell_type": "markdown",
   "id": "fd3f886d",
   "metadata": {},
   "source": [
    "#### Tracer la matrice de confusion de Neural Random Forest"
   ]
  },
  {
   "cell_type": "code",
   "execution_count": 325,
   "id": "8c94efb0",
   "metadata": {},
   "outputs": [
    {
     "name": "stderr",
     "output_type": "stream",
     "text": [
      "C:\\Users\\admin\\anaconda3\\lib\\site-packages\\sklearn\\utils\\deprecation.py:87: FutureWarning: Function plot_confusion_matrix is deprecated; Function `plot_confusion_matrix` is deprecated in 1.0 and will be removed in 1.2. Use one of the class methods: ConfusionMatrixDisplay.from_predictions or ConfusionMatrixDisplay.from_estimator.\n",
      "  warnings.warn(msg, category=FutureWarning)\n"
     ]
    },
    {
     "data": {
      "image/png": "[encoded data removed]",
      "text/plain": [
       "<Figure size 432x288 with 2 Axes>"
      ]
     },
     "metadata": {
      "needs_background": "light"
     },
     "output_type": "display_data"
    }
   ],
   "source": [
    "from sklearn.metrics import plot_confusion_matrix\n",
    "plot_confusion_matrix(model_final_ranf, X_test, y_test,cmap=plt.cm.Blues)  \n",
    "plt.show()"
   ]
  },
  {
   "cell_type": "markdown",
   "id": "0b9a42a3",
   "metadata": {},
   "source": [
    "#### Afficher le __`classification_report`__ de __`Random Forest`__\n"
   ]
  },
  {
   "cell_type": "code",
   "execution_count": 326,
   "id": "bf911024",
   "metadata": {},
   "outputs": [
    {
     "name": "stdout",
     "output_type": "stream",
     "text": [
      "              precision    recall  f1-score   support\n",
      "\n",
      "           0       0.85      0.76      0.80       124\n",
      "           1       0.79      0.87      0.83       127\n",
      "\n",
      "    accuracy                           0.82       251\n",
      "   macro avg       0.82      0.82      0.82       251\n",
      "weighted avg       0.82      0.82      0.82       251\n",
      "\n"
     ]
    }
   ],
   "source": [
    "from sklearn.metrics import classification_report\n",
    "y_pred=model_final_ranf.predict(X_test)\n",
    "print(classification_report(y_test,y_pred,digits=2))"
   ]
  },
  {
   "cell_type": "markdown",
   "id": "2e32ce22",
   "metadata": {},
   "source": [
    "### Courbe Roc et Auc"
   ]
  },
  {
   "cell_type": "code",
   "execution_count": 371,
   "id": "23a4d9e6",
   "metadata": {},
   "outputs": [
    {
     "name": "stdout",
     "output_type": "stream",
     "text": [
      "AUC Score Naive Bayes : 0.8930657861315723\n"
     ]
    },
    {
     "data": {
      "image/png": "[encoded data removed]",
      "text/plain": [
       "<Figure size 432x288 with 1 Axes>"
      ]
     },
     "metadata": {
      "needs_background": "light"
     },
     "output_type": "display_data"
    }
   ],
   "source": [
    "from sklearn.metrics import roc_curve, roc_auc_score\n",
    "y_proba = model_final_ranf.predict_proba(X_test)[:, 1]\n",
    "fpr, tpr, thresholds = roc_curve(y_test, y_proba)\n",
    "\n",
    "# Plot ROC curve\n",
    "plt.plot(fpr, tpr)\n",
    "plt.plot([0, 1], [0, 1], linestyle='--')\n",
    "plt.xlabel('False Positive Rate')\n",
    "plt.ylabel('True Positive Rate')\n",
    "plt.title('Random Forest Curve Naive Bayes')\n",
    "\n",
    "# Compute AUC score\n",
    "auc_score = roc_auc_score(y_test, y_proba)\n",
    "print('AUC Score Random Forest :', auc_score)"
   ]
  },
  {
   "cell_type": "markdown",
   "id": "e9c65031",
   "metadata": {},
   "source": [
    "### 2. Gradient Boost GridSearchCV"
   ]
  },
  {
   "cell_type": "code",
   "execution_count": 427,
   "id": "6b018927",
   "metadata": {},
   "outputs": [],
   "source": [
    "param_grid = {\n",
    "    'n_estimators': [50, 100, 200],\n",
    "    'learning_rate': [0.1, 1.0, 10.0],\n",
    "    'max_depth': [3, 5, 7]\n",
    "}\n",
    "grad_boost = GradientBoostingClassifier(random_state=42)"
   ]
  },
  {
   "cell_type": "code",
   "execution_count": 428,
   "id": "0c92610a",
   "metadata": {},
   "outputs": [
    {
     "data": {
      "text/plain": [
       "{'learning_rate': 0.1, 'max_depth': 3, 'n_estimators': 50}"
      ]
     },
     "execution_count": 428,
     "metadata": {},
     "output_type": "execute_result"
    }
   ],
   "source": [
    "grid_search = GridSearchCV(grad_boost, param_grid, cv=3)\n",
    "grid_search.fit(X_train, y_train)\n",
    "grid_search.best_params_"
   ]
  },
  {
   "cell_type": "code",
   "execution_count": 429,
   "id": "da2a4c8d",
   "metadata": {},
   "outputs": [
    {
     "data": {
      "text/plain": [
       "GradientBoostingClassifier(n_estimators=50, random_state=42)"
      ]
     },
     "execution_count": 429,
     "metadata": {},
     "output_type": "execute_result"
    }
   ],
   "source": [
    "best_grad_boost = grid_search.best_estimator_\n",
    "best_grad_boost.fit(X_train, y_train)"
   ]
  },
  {
   "cell_type": "markdown",
   "id": "a106483c",
   "metadata": {},
   "source": [
    "#### Tracer la matrice de confusion de final_model_xgb"
   ]
  },
  {
   "cell_type": "code",
   "execution_count": 430,
   "id": "6cd88249",
   "metadata": {},
   "outputs": [
    {
     "name": "stderr",
     "output_type": "stream",
     "text": [
      "C:\\Users\\admin\\anaconda3\\lib\\site-packages\\sklearn\\utils\\deprecation.py:87: FutureWarning: Function plot_confusion_matrix is deprecated; Function `plot_confusion_matrix` is deprecated in 1.0 and will be removed in 1.2. Use one of the class methods: ConfusionMatrixDisplay.from_predictions or ConfusionMatrixDisplay.from_estimator.\n",
      "  warnings.warn(msg, category=FutureWarning)\n"
     ]
    },
    {
     "data": {
      "image/png": "[encoded data removed]",
      "text/plain": [
       "<Figure size 432x288 with 2 Axes>"
      ]
     },
     "metadata": {
      "needs_background": "light"
     },
     "output_type": "display_data"
    }
   ],
   "source": [
    "from sklearn.metrics import plot_confusion_matrix\n",
    "plot_confusion_matrix(best_grad_boost, X_test, y_test,cmap=plt.cm.Blues)  \n",
    "plt.show()"
   ]
  },
  {
   "cell_type": "markdown",
   "id": "69d61ef3",
   "metadata": {},
   "source": [
    "#### Afficher le __`classification_report`__ de __`final_model_xgb`__"
   ]
  },
  {
   "cell_type": "code",
   "execution_count": 431,
   "id": "d9e6c0cf",
   "metadata": {},
   "outputs": [
    {
     "name": "stdout",
     "output_type": "stream",
     "text": [
      "              precision    recall  f1-score   support\n",
      "\n",
      "           0       0.86      0.77      0.82       124\n",
      "           1       0.80      0.88      0.84       127\n",
      "\n",
      "    accuracy                           0.83       251\n",
      "   macro avg       0.83      0.83      0.83       251\n",
      "weighted avg       0.83      0.83      0.83       251\n",
      "\n"
     ]
    }
   ],
   "source": [
    "from sklearn.metrics import classification_report\n",
    "y_pred=best_grad_boost.predict(X_test)\n",
    "print(classification_report(y_test,y_pred,digits=2))"
   ]
  },
  {
   "cell_type": "markdown",
   "id": "074818f5",
   "metadata": {},
   "source": [
    "### Courbe Roc et Auc"
   ]
  },
  {
   "cell_type": "code",
   "execution_count": 432,
   "id": "44260619",
   "metadata": {},
   "outputs": [
    {
     "name": "stdout",
     "output_type": "stream",
     "text": [
      "AUC Gradient Boost : 0.9121475742951486\n"
     ]
    },
    {
     "data": {
      "image/png": "[encoded data removed]",
      "text/plain": [
       "<Figure size 432x288 with 1 Axes>"
      ]
     },
     "metadata": {
      "needs_background": "light"
     },
     "output_type": "display_data"
    }
   ],
   "source": [
    "from sklearn.metrics import roc_curve, roc_auc_score\n",
    "y_proba = best_grad_boost.predict_proba(X_test)[:, 1]\n",
    "fpr, tpr, thresholds = roc_curve(y_test, y_proba)\n",
    "\n",
    "# Plot ROC curve\n",
    "plt.plot(fpr, tpr)\n",
    "plt.plot([0, 1], [0, 1], linestyle='--')\n",
    "plt.xlabel('False Positive Rate')\n",
    "plt.ylabel('True Positive Rate')\n",
    "plt.title('ROC Gradient Boost')\n",
    "\n",
    "# Compute AUC score\n",
    "auc_score = roc_auc_score(y_test, y_proba)\n",
    "print('AUC Gradient Boost :', auc_score)"
   ]
  },
  {
   "cell_type": "markdown",
   "id": "a25e0f6a",
   "metadata": {},
   "source": [
    "### 3.  Ada Boost GridSearchCV"
   ]
  },
  {
   "cell_type": "code",
   "execution_count": 422,
   "id": "f9456877",
   "metadata": {
    "id": "f9456877"
   },
   "outputs": [
    {
     "name": "stdout",
     "output_type": "stream",
     "text": [
      "Best hyperparameters: {'learning_rate': 0.1, 'n_estimators': 200}\n"
     ]
    }
   ],
   "source": [
    "param_grid = {\n",
    "    'n_estimators': [50, 100, 200],\n",
    "    'learning_rate': [0.1, 0.5, 1.0]\n",
    "}\n",
    "ada = AdaBoostClassifier(random_state=42)\n",
    "grid_search = GridSearchCV(ada, param_grid, cv=5)\n",
    "grid_search.fit(X_train, y_train)\n",
    "print('Best hyperparameters:', grid_search.best_params_)"
   ]
  },
  {
   "cell_type": "code",
   "execution_count": 423,
   "id": "74c6f9ae",
   "metadata": {},
   "outputs": [
    {
     "data": {
      "text/plain": [
       "AdaBoostClassifier(learning_rate=0.1, n_estimators=200, random_state=42)"
      ]
     },
     "execution_count": 423,
     "metadata": {},
     "output_type": "execute_result"
    }
   ],
   "source": [
    "best_ada_boost = grid_search.best_estimator_\n",
    "best_ada_boost.fit(X_train, y_train)"
   ]
  },
  {
   "cell_type": "markdown",
   "id": "75bb45bc",
   "metadata": {},
   "source": [
    "#### Tracer la matrice de confusion de Ada Boost"
   ]
  },
  {
   "cell_type": "code",
   "execution_count": 424,
   "id": "ce03f1cb",
   "metadata": {},
   "outputs": [
    {
     "name": "stderr",
     "output_type": "stream",
     "text": [
      "C:\\Users\\admin\\anaconda3\\lib\\site-packages\\sklearn\\utils\\deprecation.py:87: FutureWarning: Function plot_confusion_matrix is deprecated; Function `plot_confusion_matrix` is deprecated in 1.0 and will be removed in 1.2. Use one of the class methods: ConfusionMatrixDisplay.from_predictions or ConfusionMatrixDisplay.from_estimator.\n",
      "  warnings.warn(msg, category=FutureWarning)\n"
     ]
    },
    {
     "data": {
      "image/png": "[encoded data removed]",
      "text/plain": [
       "<Figure size 432x288 with 2 Axes>"
      ]
     },
     "metadata": {
      "needs_background": "light"
     },
     "output_type": "display_data"
    }
   ],
   "source": [
    "from sklearn.metrics import plot_confusion_matrix\n",
    "plot_confusion_matrix(best_ada_boost, X_test, y_test,cmap=plt.cm.Blues)  \n",
    "plt.show()"
   ]
  },
  {
   "cell_type": "markdown",
   "id": "abaf0f4c",
   "metadata": {},
   "source": [
    "#### Afficher le __`classification_report`__ de __`Ada Boost`__"
   ]
  },
  {
   "cell_type": "code",
   "execution_count": 425,
   "id": "f1cbadd2",
   "metadata": {},
   "outputs": [
    {
     "name": "stdout",
     "output_type": "stream",
     "text": [
      "              precision    recall  f1-score   support\n",
      "\n",
      "           0       0.87      0.79      0.83       124\n",
      "           1       0.81      0.88      0.85       127\n",
      "\n",
      "    accuracy                           0.84       251\n",
      "   macro avg       0.84      0.84      0.84       251\n",
      "weighted avg       0.84      0.84      0.84       251\n",
      "\n"
     ]
    }
   ],
   "source": [
    "from sklearn.metrics import classification_report\n",
    "y_pred=best_ada_boost.predict(X_test)\n",
    "print(classification_report(y_test,y_pred,digits=2))"
   ]
  },
  {
   "cell_type": "markdown",
   "id": "da84ee79",
   "metadata": {},
   "source": [
    "### Courbe Roc et Auc"
   ]
  },
  {
   "cell_type": "code",
   "execution_count": 426,
   "id": "de9dd5d2",
   "metadata": {},
   "outputs": [
    {
     "name": "stdout",
     "output_type": "stream",
     "text": [
      "AUC ADA Boost : 0.9077660655321311\n"
     ]
    },
    {
     "data": {
      "image/png": "[encoded data removed]",
      "text/plain": [
       "<Figure size 432x288 with 1 Axes>"
      ]
     },
     "metadata": {
      "needs_background": "light"
     },
     "output_type": "display_data"
    }
   ],
   "source": [
    "from sklearn.metrics import roc_curve, roc_auc_score\n",
    "y_proba = best_ada_boost.predict_proba(X_test)[:, 1]\n",
    "fpr, tpr, thresholds = roc_curve(y_test, y_proba)\n",
    "\n",
    "# Plot ROC curve\n",
    "plt.plot(fpr, tpr)\n",
    "plt.plot([0, 1], [0, 1], linestyle='--')\n",
    "plt.xlabel('False Positive Rate')\n",
    "plt.ylabel('True Positive Rate')\n",
    "plt.title('ROC ADA Boost')\n",
    "\n",
    "# Compute AUC score\n",
    "auc_score = roc_auc_score(y_test, y_proba)\n",
    "print('AUC ADA Boost :', auc_score)"
   ]
  },
  {
   "cell_type": "markdown",
   "id": "eafcb811",
   "metadata": {},
   "source": [
    "### Comparaison entre les modeles apres tuning(GridSearchCV)"
   ]
  },
  {
   "cell_type": "code",
   "execution_count": 433,
   "id": "aad93d6f",
   "metadata": {},
   "outputs": [
    {
     "data": {
      "text/html": [
       "<div>\n",
       "<style scoped>\n",
       "    .dataframe tbody tr th:only-of-type {\n",
       "        vertical-align: middle;\n",
       "    }\n",
       "\n",
       "    .dataframe tbody tr th {\n",
       "        vertical-align: top;\n",
       "    }\n",
       "\n",
       "    .dataframe thead th {\n",
       "        text-align: right;\n",
       "    }\n",
       "</style>\n",
       "<table border=\"1\" class=\"dataframe\">\n",
       "  <thead>\n",
       "    <tr style=\"text-align: right;\">\n",
       "      <th></th>\n",
       "      <th>f1-score avant tuning</th>\n",
       "      <th>AUC score</th>\n",
       "    </tr>\n",
       "  </thead>\n",
       "  <tbody>\n",
       "    <tr>\n",
       "      <th>RandomForest</th>\n",
       "      <td>0.82</td>\n",
       "      <td>0.89</td>\n",
       "    </tr>\n",
       "    <tr>\n",
       "      <th>GDBoost</th>\n",
       "      <td>0.83</td>\n",
       "      <td>0.91</td>\n",
       "    </tr>\n",
       "    <tr>\n",
       "      <th>AdaBoost</th>\n",
       "      <td>0.84</td>\n",
       "      <td>0.91</td>\n",
       "    </tr>\n",
       "  </tbody>\n",
       "</table>\n",
       "</div>"
      ],
      "text/plain": [
       "              f1-score avant tuning  AUC score\n",
       "RandomForest                   0.82       0.89\n",
       "GDBoost                        0.83       0.91\n",
       "AdaBoost                       0.84       0.91"
      ]
     },
     "execution_count": 433,
     "metadata": {},
     "output_type": "execute_result"
    }
   ],
   "source": [
    "scores = pd.DataFrame({'f1-score avant tuning' : [0.82,0.83,0.84],'AUC score':[0.89,0.91,0.91]} \n",
    "                        ,index=['RandomForest','GDBoost','AdaBoost'])\n",
    "scores"
   ]
  },
  {
   "cell_type": "markdown",
   "id": "32eab486",
   "metadata": {},
   "source": [
    "#### On remarque qu'il n ya pas de difference entre les modeles avant tuning et apres. Le modele le plus preformant est ADA Boost classifier"
   ]
  },
  {
   "cell_type": "markdown",
   "id": "da3173e9",
   "metadata": {},
   "source": [
    "## Identification des principales caractéristiques qui conduisent à des problèmes de santé mentale dans l'espace technologique"
   ]
  },
  {
   "cell_type": "code",
   "execution_count": 347,
   "id": "89555cf9",
   "metadata": {},
   "outputs": [],
   "source": [
    "features=['age','gender','self_employed','family_history','work_interfere','employee_numbers','remote_work','tech_company','benefits','care_options','wellness_program','seek_help','anonymity','medical_leave','mental_health_consequence','phys_health_consequence','coworkers','supervisor','mental_health_interview','phys_health_interview','mental_vs_physical','obs_consequence']"
   ]
  },
  {
   "cell_type": "code",
   "execution_count": 348,
   "id": "0a2b9792",
   "metadata": {},
   "outputs": [],
   "source": [
    "dataimp = {'feature_names': features, 'feature_importance': best_ada_boost.feature_importances_}\n",
    "featureimp_df = pd.DataFrame(dataimp)\n",
    "featureimp_df.sort_values(by=['feature_importance'], ascending=False, inplace=True)"
   ]
  },
  {
   "cell_type": "code",
   "execution_count": 358,
   "id": "086da761",
   "metadata": {},
   "outputs": [
    {
     "data": {
      "image/png": "[encoded data removed]",
      "text/plain": [
       "<Figure size 864x720 with 1 Axes>"
      ]
     },
     "metadata": {
      "needs_background": "light"
     },
     "output_type": "display_data"
    }
   ],
   "source": [
    "plt.figure(figsize=(12,10))\n",
    "sns.barplot(data = featureimp_df, x = 'feature_importance' , y = 'feature_names' , palette='rocket')\n",
    "plt.title(\"Key Features\", fontsize=20, fontweight=\"bold\")\n",
    "plt.xlim(0, 1)\n",
    "plt.show()"
   ]
  },
  {
   "cell_type": "markdown",
   "id": "c8780b97",
   "metadata": {},
   "source": [
    "#### 'work_interfere' a la plus grande contribution. Cette resultat est attendue. Il est logique que cette variable soit un bon prédicteur, car si les problèmes de santé mentale ont un impact significatif sur le travail, il est plus probable que le participant nécessite un traitement. D'ou, l'entreprise devra demander si les problèmes de santé mentale de l'employé interfèrent avec le travail. \n",
    "\n",
    "#### Les antécédents familiaux peuvent être un indicateur de prédisposition génétique ou d'environnement familial propice aux troubles de santé mentale, ce qui peut augmenter la probabilité de traitement. L'âge peut également être un déclencheur, étant donné que la plupart d'entre eux sont jeunes, il y a donc de fortes chances qu'ils soient ouverts d'esprit pour se faire soigner.\n",
    "\n",
    "#### Les facteurs liés à l'environnement de travail, tels que l'impact sur le travail, les politiques de soutien de l'entreprise 'care_options' et 'benefits' et la réaction des collègues'coworkers', 'medical_leave' jouent un rôle important dans la prévision des problèmes de santé mentale et de la nécessité de traitement. Les variables identifiées peuvent aider à comprendre les mécanismes et les déterminants de la santé mentale dans le contexte technologique.\n",
    "\n",
    "#### Connaître certaines de ces caractéristiques à l'avance peut même aider à soutenir une personne qui peut avoir des problèmes de santé mentale et à la mettre en contact avec les ressources appropriées pour les employés."
   ]
  },
  {
   "cell_type": "markdown",
   "id": "d189d81c",
   "metadata": {
    "id": "d189d81c"
   },
   "source": [
    "###### "
   ]
  },
  {
   "cell_type": "markdown",
   "id": "a829a964",
   "metadata": {},
   "source": [
    "#### Sur la base de la sélection des fonctionnalités en fonction du score de coefficient, nous avons décidé de supprimer manuellement les variables qui obtiennent un score null. Il y a Remote_work, Wellness_Program, Physical_Health_Consequence, mental_vs_physical, phys_health_interview, supervisor, seek_help, mental_health_consequences, wellness_program, tech_company, employee_numbers,self_employed,obs_consequnce.\n"
   ]
  },
  {
   "cell_type": "code",
   "execution_count": 434,
   "id": "d64a077f",
   "metadata": {
    "id": "d64a077f",
    "outputId": "e18f2814-64a2-4fcd-cabe-932f3d9a0005"
   },
   "outputs": [
    {
     "data": {
      "text/html": [
       "<div>\n",
       "<style scoped>\n",
       "    .dataframe tbody tr th:only-of-type {\n",
       "        vertical-align: middle;\n",
       "    }\n",
       "\n",
       "    .dataframe tbody tr th {\n",
       "        vertical-align: top;\n",
       "    }\n",
       "\n",
       "    .dataframe thead th {\n",
       "        text-align: right;\n",
       "    }\n",
       "</style>\n",
       "<table border=\"1\" class=\"dataframe\">\n",
       "  <thead>\n",
       "    <tr style=\"text-align: right;\">\n",
       "      <th></th>\n",
       "      <th>age</th>\n",
       "      <th>gender</th>\n",
       "      <th>family_history</th>\n",
       "      <th>treatment</th>\n",
       "      <th>work_interfere</th>\n",
       "      <th>benefits</th>\n",
       "      <th>care_options</th>\n",
       "      <th>anonymity</th>\n",
       "      <th>medical_leave</th>\n",
       "      <th>coworkers</th>\n",
       "      <th>mental_health_interview</th>\n",
       "    </tr>\n",
       "  </thead>\n",
       "  <tbody>\n",
       "    <tr>\n",
       "      <th>0</th>\n",
       "      <td>0.351852</td>\n",
       "      <td>0.0</td>\n",
       "      <td>0.0</td>\n",
       "      <td>1</td>\n",
       "      <td>4.0</td>\n",
       "      <td>2.0</td>\n",
       "      <td>1.0</td>\n",
       "      <td>2.0</td>\n",
       "      <td>1.0</td>\n",
       "      <td>1.0</td>\n",
       "      <td>0.0</td>\n",
       "    </tr>\n",
       "    <tr>\n",
       "      <th>1</th>\n",
       "      <td>0.481481</td>\n",
       "      <td>1.0</td>\n",
       "      <td>0.0</td>\n",
       "      <td>0</td>\n",
       "      <td>1.0</td>\n",
       "      <td>1.0</td>\n",
       "      <td>0.0</td>\n",
       "      <td>1.0</td>\n",
       "      <td>2.0</td>\n",
       "      <td>0.0</td>\n",
       "      <td>0.0</td>\n",
       "    </tr>\n",
       "    <tr>\n",
       "      <th>2</th>\n",
       "      <td>0.259259</td>\n",
       "      <td>1.0</td>\n",
       "      <td>0.0</td>\n",
       "      <td>0</td>\n",
       "      <td>1.0</td>\n",
       "      <td>0.0</td>\n",
       "      <td>0.0</td>\n",
       "      <td>1.0</td>\n",
       "      <td>3.0</td>\n",
       "      <td>2.0</td>\n",
       "      <td>2.0</td>\n",
       "    </tr>\n",
       "    <tr>\n",
       "      <th>3</th>\n",
       "      <td>0.240741</td>\n",
       "      <td>1.0</td>\n",
       "      <td>1.0</td>\n",
       "      <td>1</td>\n",
       "      <td>4.0</td>\n",
       "      <td>0.0</td>\n",
       "      <td>2.0</td>\n",
       "      <td>0.0</td>\n",
       "      <td>3.0</td>\n",
       "      <td>1.0</td>\n",
       "      <td>1.0</td>\n",
       "    </tr>\n",
       "    <tr>\n",
       "      <th>4</th>\n",
       "      <td>0.240741</td>\n",
       "      <td>1.0</td>\n",
       "      <td>0.0</td>\n",
       "      <td>0</td>\n",
       "      <td>0.0</td>\n",
       "      <td>2.0</td>\n",
       "      <td>0.0</td>\n",
       "      <td>1.0</td>\n",
       "      <td>2.0</td>\n",
       "      <td>1.0</td>\n",
       "      <td>2.0</td>\n",
       "    </tr>\n",
       "  </tbody>\n",
       "</table>\n",
       "</div>"
      ],
      "text/plain": [
       "        age  gender  family_history  treatment  work_interfere  benefits  \\\n",
       "0  0.351852     0.0             0.0          1             4.0       2.0   \n",
       "1  0.481481     1.0             0.0          0             1.0       1.0   \n",
       "2  0.259259     1.0             0.0          0             1.0       0.0   \n",
       "3  0.240741     1.0             1.0          1             4.0       0.0   \n",
       "4  0.240741     1.0             0.0          0             0.0       2.0   \n",
       "\n",
       "   care_options  anonymity  medical_leave  coworkers  mental_health_interview  \n",
       "0           1.0        2.0            1.0        1.0                      0.0  \n",
       "1           0.0        1.0            2.0        0.0                      0.0  \n",
       "2           0.0        1.0            3.0        2.0                      2.0  \n",
       "3           2.0        0.0            3.0        1.0                      1.0  \n",
       "4           0.0        1.0            2.0        1.0                      2.0  "
      ]
     },
     "execution_count": 434,
     "metadata": {},
     "output_type": "execute_result"
    }
   ],
   "source": [
    "data_tuning = data.copy()\n",
    "data_tuning.drop(columns = ['self_employed', 'employee_numbers', 'remote_work', 'tech_company','wellness_program','seek_help','mental_health_consequence','phys_health_consequence','supervisor','phys_health_interview','mental_vs_physical','obs_consequence'], inplace = True)\n",
    "data_tuning.head()\n"
   ]
  },
  {
   "cell_type": "code",
   "execution_count": 438,
   "id": "c9090b1c",
   "metadata": {},
   "outputs": [],
   "source": [
    "X_New = data_tuning.drop('treatment', axis = 1)\n",
    "y_New = data_tuning['treatment']\n",
    "X_train_n,X_test_n,y_train_n,y_test_n=train_test_split(X_New,y_New,test_size=0.2,random_state=42)"
   ]
  },
  {
   "cell_type": "code",
   "execution_count": 440,
   "id": "2762b3af",
   "metadata": {},
   "outputs": [
    {
     "name": "stdout",
     "output_type": "stream",
     "text": [
      "Best hyperparameters: {'learning_rate': 0.5, 'n_estimators': 50}\n"
     ]
    },
    {
     "data": {
      "text/plain": [
       "AdaBoostClassifier(learning_rate=0.5, random_state=42)"
      ]
     },
     "execution_count": 440,
     "metadata": {},
     "output_type": "execute_result"
    }
   ],
   "source": [
    "param_grid = {\n",
    "    'n_estimators': [50, 100, 200],\n",
    "    'learning_rate': [0.1, 0.5, 1.0]\n",
    "}\n",
    "ada_n = AdaBoostClassifier(random_state=42)\n",
    "grid_search = GridSearchCV(ada_n, param_grid, cv=5)\n",
    "grid_search.fit(X_train_n, y_train_n)\n",
    "print('Best hyperparameters:', grid_search.best_params_)\n",
    "best_ada_boost_N = grid_search.best_estimator_\n",
    "best_ada_boost_N.fit(X_train_n, y_train_n)"
   ]
  },
  {
   "cell_type": "code",
   "execution_count": 441,
   "id": "b816346c",
   "metadata": {},
   "outputs": [
    {
     "name": "stdout",
     "output_type": "stream",
     "text": [
      "              precision    recall  f1-score   support\n",
      "\n",
      "           0       0.85      0.73      0.79       113\n",
      "           1       0.80      0.89      0.85       138\n",
      "\n",
      "    accuracy                           0.82       251\n",
      "   macro avg       0.83      0.81      0.82       251\n",
      "weighted avg       0.82      0.82      0.82       251\n",
      "\n"
     ]
    }
   ],
   "source": [
    "from sklearn.metrics import classification_report\n",
    "y_pred_n=best_ada_boost_N.predict(X_test_n)\n",
    "print(classification_report(y_test_n,y_pred_n,digits=2))"
   ]
  },
  {
   "cell_type": "markdown",
   "id": "0707804d",
   "metadata": {
    "id": "0707804d"
   },
   "source": [
    "### ROC curve"
   ]
  },
  {
   "cell_type": "code",
   "execution_count": 442,
   "id": "62995d3f",
   "metadata": {
    "id": "62995d3f"
   },
   "outputs": [
    {
     "name": "stdout",
     "output_type": "stream",
     "text": [
      "AUC ADA Boost : 0.9077660655321311\n"
     ]
    },
    {
     "data": {
      "image/png": "[encoded data removed]",
      "text/plain": [
       "<Figure size 432x288 with 1 Axes>"
      ]
     },
     "metadata": {
      "needs_background": "light"
     },
     "output_type": "display_data"
    }
   ],
   "source": [
    "from sklearn.metrics import roc_curve, roc_auc_score\n",
    "y_proba = best_ada_boost.predict_proba(X_test)[:, 1]\n",
    "fpr, tpr, thresholds = roc_curve(y_test, y_proba)\n",
    "\n",
    "# Plot ROC curve\n",
    "plt.plot(fpr, tpr)\n",
    "plt.plot([0, 1], [0, 1], linestyle='--')\n",
    "plt.xlabel('False Positive Rate')\n",
    "plt.ylabel('True Positive Rate')\n",
    "plt.title('ROC ADA Boost')\n",
    "\n",
    "# Compute AUC score\n",
    "auc_score = roc_auc_score(y_test, y_proba)\n",
    "print('AUC ADA Boost :', auc_score)"
   ]
  },
  {
   "cell_type": "markdown",
   "id": "e63a1079",
   "metadata": {
    "id": "e63a1079"
   },
   "source": [
    "#### On remarque que le score de f1 a diminue legerement.En effet, l'absence de contribution significative des variables supprimes dans notre modèle ne signifie pas qu'elles sont dénuées de sens ou d'importance dans l'étude de la santé mentale. Ces variables peuvent avoir des relations complexes avec d'autres facteurs non inclus dans notre modèle ou peuvent nécessiter des considérations contextuelles supplémentaires. Nous allons donc garder le modele avant selection des variables."
   ]
  },
  {
   "cell_type": "markdown",
   "id": "52b70834",
   "metadata": {
    "id": "5da1186e"
   },
   "source": [
    "#### Finalement, selon le profil des employers, Les entreprises doivent savoir que l'age et les antécédents familiaux influencent grandement la décision de faire soigner les employés. \n",
    "\n",
    "#### Ensuite, on trouve l'interférence au travail qui est la plus influente. Cela signifie que l'entreprise devrait envisager de fournir des installations pour eviter le stress au travail des employés comme la création des salles privée ou silencieuses au cas où auraient besoin d'un moment privé pour se soulager.\n",
    "\n",
    "#### Finalement selon les options founis par l'entrprise, les resultats ont montres qu'ils jouent un role tres important dans la prevision de traitement. Ellent doivent offrir une bonne prestation aux employés afin qu'ils puissent maintenir leur santé mentale. \n",
    "\n"
   ]
  },
  {
   "metadata": {},
   "cell_type": "code",
   "outputs": [],
   "execution_count": null,
   "source": "",
   "id": "9cf4e903e22d0fad"
  }
 ],
 "metadata": {
  "colab": {
   "provenance": []
  },
  "kernelspec": {
   "display_name": "Python 3 (ipykernel)",
   "language": "python",
   "name": "python3"
  },
  "language_info": {
   "codemirror_mode": {
    "name": "ipython",
    "version": 3
   },
   "file_extension": ".py",
   "mimetype": "text/x-python",
   "name": "python",
   "nbconvert_exporter": "python",
   "pygments_lexer": "ipython3",
   "version": "3.9.12"
  }
 },
 "nbformat": 4,
 "nbformat_minor": 5
}
